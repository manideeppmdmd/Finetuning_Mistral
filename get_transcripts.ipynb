{
 "cells": [
  {
   "cell_type": "code",
   "execution_count": 1,
   "metadata": {},
   "outputs": [
    {
     "ename": "ModuleNotFoundError",
     "evalue": "No module named 'youtube_transcript_api'",
     "output_type": "error",
     "traceback": [
      "\u001b[0;31m---------------------------------------------------------------------------\u001b[0m",
      "\u001b[0;31mModuleNotFoundError\u001b[0m                       Traceback (most recent call last)",
      "\u001b[0;32m/var/folders/pk/vh_75fc94ln_vv7v0lnfl5tr0000gn/T/ipykernel_81568/3853429675.py\u001b[0m in \u001b[0;36m<module>\u001b[0;34m\u001b[0m\n\u001b[0;32m----> 1\u001b[0;31m \u001b[0;32mfrom\u001b[0m \u001b[0myoutube_transcript_api\u001b[0m \u001b[0;32mimport\u001b[0m \u001b[0mYouTubeTranscriptApi\u001b[0m\u001b[0;34m\u001b[0m\u001b[0;34m\u001b[0m\u001b[0m\n\u001b[0m\u001b[1;32m      2\u001b[0m \u001b[0;34m\u001b[0m\u001b[0m\n\u001b[1;32m      3\u001b[0m \u001b[0;31m# Function to get the transcript for a YouTube video with fallback to 'en-IN'\u001b[0m\u001b[0;34m\u001b[0m\u001b[0;34m\u001b[0m\u001b[0;34m\u001b[0m\u001b[0m\n\u001b[1;32m      4\u001b[0m \u001b[0;32mdef\u001b[0m \u001b[0mget_transcript_with_fallback\u001b[0m\u001b[0;34m(\u001b[0m\u001b[0mvideo_id\u001b[0m\u001b[0;34m)\u001b[0m\u001b[0;34m:\u001b[0m\u001b[0;34m\u001b[0m\u001b[0;34m\u001b[0m\u001b[0m\n\u001b[1;32m      5\u001b[0m     \u001b[0;32mtry\u001b[0m\u001b[0;34m:\u001b[0m\u001b[0;34m\u001b[0m\u001b[0;34m\u001b[0m\u001b[0m\n",
      "\u001b[0;31mModuleNotFoundError\u001b[0m: No module named 'youtube_transcript_api'"
     ]
    }
   ],
   "source": [
    "from youtube_transcript_api import YouTubeTranscriptApi\n",
    "\n",
    "# Function to get the transcript for a YouTube video with fallback to 'en-IN'\n",
    "def get_transcript_with_fallback(video_id):\n",
    "    try:\n",
    "        # Attempt to fetch the transcript with default language preferences\n",
    "        transcript = YouTubeTranscriptApi.get_transcript(video_id, languages=['en'])\n",
    "        return transcript\n",
    "    except Exception as e:\n",
    "        # Check if 'en-IN' is available\n",
    "        try:\n",
    "            available_transcripts = YouTubeTranscriptApi.list_transcripts(video_id)\n",
    "            if 'en-IN' in [t.language_code for t in available_transcripts]:\n",
    "                # Fetch the 'en-IN' transcript\n",
    "                return available_transcripts.find_transcript(['en-IN']).fetch()\n",
    "            else:\n",
    "                # If 'en-IN' is not available, re-raise the original exception\n",
    "                raise Exception(f\"Error fetching transcript for video ID {video_id}: {e}\")\n",
    "        except Exception as inner_e:\n",
    "            raise Exception(f\"Error fetching transcript for video ID {video_id}: {inner_e}\")\n",
    "\n",
    "# Function to generate timestamps from a transcript\n",
    "def generate_timestamps(transcript):\n",
    "    timestamps = []\n",
    "    if isinstance(transcript, list):  # Ensure transcript is valid\n",
    "        for item in transcript:\n",
    "            timestamps.append(f\"{item['start']} - {item['text']}\")\n",
    "    else:\n",
    "        timestamps.append(transcript)  # If there's an error, log the error message\n",
    "    return timestamps\n",
    "\n",
    "def extract_video_id(youtube_url):\n",
    "    parsed_url = urlparse(youtube_url)\n",
    "    query_params = parse_qs(parsed_url.query)\n",
    "    video_id = query_params.get(\"v\")\n",
    "    return video_id[0] if video_id else None"
   ]
  },
  {
   "cell_type": "code",
   "execution_count": null,
   "metadata": {},
   "outputs": [],
   "source": []
  },
  {
   "cell_type": "code",
   "execution_count": null,
   "metadata": {},
   "outputs": [],
   "source": [
    "for video_id in video_ids:\n",
    "    try:\n",
    "        transcript = get_transcript_with_fallback(video_id)\n",
    "        timestamps = generate_timestamps(transcript)\n",
    "        timestamps_data.append({\"Video ID\": video_id, \"Timestamps\": \"\\n\".join(timestamps)})\n",
    "    except Exception as e:\n",
    "        timestamps_data.append({\"Video ID\": video_id, \"Timestamps\": str(e)})\n",
    "\n",
    "# Save the timestamps to a DataFrame and then to an Excel file\n",
    "timestamps_df = pd.DataFrame(timestamps_data)\n",
    "\n",
    "# Save to Excel\n",
    "output_file = '/Users/mandy/Desktop/NLP/Project/youtube_video_timestamps_with_fallback.xlsx'\n",
    "timestamps_df.to_excel(output_file, index=False)"
   ]
  }
 ],
 "metadata": {
  "interpreter": {
   "hash": "f26cbaeb12c2d20b8b53855996f8d56208eb028e5a69a1b26e0873be6deca36f"
  },
  "kernelspec": {
   "display_name": "Python 3.7.16 ('env2')",
   "language": "python",
   "name": "python3"
  },
  "language_info": {
   "codemirror_mode": {
    "name": "ipython",
    "version": 3
   },
   "file_extension": ".py",
   "mimetype": "text/x-python",
   "name": "python",
   "nbconvert_exporter": "python",
   "pygments_lexer": "ipython3",
   "version": "3.7.16"
  },
  "orig_nbformat": 4
 },
 "nbformat": 4,
 "nbformat_minor": 2
}
