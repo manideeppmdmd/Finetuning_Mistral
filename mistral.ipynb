{
 "cells": [
  {
   "cell_type": "code",
   "execution_count": 15,
   "metadata": {},
   "outputs": [
    {
     "data": {
      "text/html": [
       "<pre style=\"white-space:pre;overflow-x:auto;line-height:normal;font-family:Menlo,'DejaVu Sans Mono',consolas,'Courier New',monospace\">                                              messages\n",
       "<span style=\"color: #008080; text-decoration-color: #008080; font-weight: bold\">0</span>    <span style=\"font-weight: bold\">{</span><span style=\"color: #008000; text-decoration-color: #008000\">'role'</span>: <span style=\"color: #008000; text-decoration-color: #008000\">'user'</span>, <span style=\"color: #008000; text-decoration-color: #008000\">'content'</span>: 'Generate the time<span style=\"color: #808000; text-decoration-color: #808000\">...</span>\n",
       "<span style=\"color: #008080; text-decoration-color: #008080; font-weight: bold\">1</span>    <span style=\"font-weight: bold\">{</span><span style=\"color: #008000; text-decoration-color: #008000\">'role'</span>: <span style=\"color: #008000; text-decoration-color: #008000\">'assistant'</span>, <span style=\"color: #008000; text-decoration-color: #008000\">'content'</span>: 'Timestamps: <span style=\"color: #808000; text-decoration-color: #808000\">...</span>\n",
       "<span style=\"color: #008080; text-decoration-color: #008080; font-weight: bold\">2</span>    <span style=\"font-weight: bold\">{</span><span style=\"color: #008000; text-decoration-color: #008000\">'role'</span>: <span style=\"color: #008000; text-decoration-color: #008000\">'user'</span>, <span style=\"color: #008000; text-decoration-color: #008000\">'content'</span>: 'Generate the time<span style=\"color: #808000; text-decoration-color: #808000\">...</span>\n",
       "<span style=\"color: #008080; text-decoration-color: #008080; font-weight: bold\">3</span>    <span style=\"font-weight: bold\">{</span><span style=\"color: #008000; text-decoration-color: #008000\">'role'</span>: <span style=\"color: #008000; text-decoration-color: #008000\">'assistant'</span>, <span style=\"color: #008000; text-decoration-color: #008000\">'content'</span>: 'Timestamps: <span style=\"color: #808000; text-decoration-color: #808000\">...</span>\n",
       "<span style=\"color: #008080; text-decoration-color: #008080; font-weight: bold\">4</span>    <span style=\"font-weight: bold\">{</span><span style=\"color: #008000; text-decoration-color: #008000\">'role'</span>: <span style=\"color: #008000; text-decoration-color: #008000\">'user'</span>, <span style=\"color: #008000; text-decoration-color: #008000\">'content'</span>: 'Generate the time<span style=\"color: #808000; text-decoration-color: #808000\">...</span>\n",
       "..                                                 <span style=\"color: #808000; text-decoration-color: #808000\">...</span>\n",
       "<span style=\"color: #008080; text-decoration-color: #008080; font-weight: bold\">211</span>  <span style=\"font-weight: bold\">{</span><span style=\"color: #008000; text-decoration-color: #008000\">'role'</span>: <span style=\"color: #008000; text-decoration-color: #008000\">'assistant'</span>, <span style=\"color: #008000; text-decoration-color: #008000\">'content'</span>: 'Timestamps: <span style=\"color: #808000; text-decoration-color: #808000\">...</span>\n",
       "<span style=\"color: #008080; text-decoration-color: #008080; font-weight: bold\">212</span>  <span style=\"font-weight: bold\">{</span><span style=\"color: #008000; text-decoration-color: #008000\">'role'</span>: <span style=\"color: #008000; text-decoration-color: #008000\">'user'</span>, <span style=\"color: #008000; text-decoration-color: #008000\">'content'</span>: 'Generate the time<span style=\"color: #808000; text-decoration-color: #808000\">...</span>\n",
       "<span style=\"color: #008080; text-decoration-color: #008080; font-weight: bold\">213</span>  <span style=\"font-weight: bold\">{</span><span style=\"color: #008000; text-decoration-color: #008000\">'role'</span>: <span style=\"color: #008000; text-decoration-color: #008000\">'assistant'</span>, <span style=\"color: #008000; text-decoration-color: #008000\">'content'</span>: 'Timestamps: <span style=\"color: #808000; text-decoration-color: #808000\">...</span>\n",
       "<span style=\"color: #008080; text-decoration-color: #008080; font-weight: bold\">214</span>  <span style=\"font-weight: bold\">{</span><span style=\"color: #008000; text-decoration-color: #008000\">'role'</span>: <span style=\"color: #008000; text-decoration-color: #008000\">'user'</span>, <span style=\"color: #008000; text-decoration-color: #008000\">'content'</span>: 'Generate the time<span style=\"color: #808000; text-decoration-color: #808000\">...</span>\n",
       "<span style=\"color: #008080; text-decoration-color: #008080; font-weight: bold\">215</span>               <span style=\"font-weight: bold\">{</span><span style=\"color: #008000; text-decoration-color: #008000\">'role'</span>: <span style=\"color: #008000; text-decoration-color: #008000\">'assistant'</span>, <span style=\"color: #008000; text-decoration-color: #008000\">'content'</span>: <span style=\"color: #008000; text-decoration-color: #008000\">''</span><span style=\"font-weight: bold\">}</span>\n",
       "\n",
       "<span style=\"font-weight: bold\">[</span><span style=\"color: #008080; text-decoration-color: #008080; font-weight: bold\">216</span> rows x <span style=\"color: #008080; text-decoration-color: #008080; font-weight: bold\">1</span> columns<span style=\"font-weight: bold\">]</span>\n",
       "</pre>\n"
      ],
      "text/plain": [
       "                                              messages\n",
       "\u001b[1;36m0\u001b[0m    \u001b[1m{\u001b[0m\u001b[32m'role'\u001b[0m: \u001b[32m'user'\u001b[0m, \u001b[32m'content'\u001b[0m: 'Generate the time\u001b[33m...\u001b[0m\n",
       "\u001b[1;36m1\u001b[0m    \u001b[1m{\u001b[0m\u001b[32m'role'\u001b[0m: \u001b[32m'assistant'\u001b[0m, \u001b[32m'content'\u001b[0m: 'Timestamps: \u001b[33m...\u001b[0m\n",
       "\u001b[1;36m2\u001b[0m    \u001b[1m{\u001b[0m\u001b[32m'role'\u001b[0m: \u001b[32m'user'\u001b[0m, \u001b[32m'content'\u001b[0m: 'Generate the time\u001b[33m...\u001b[0m\n",
       "\u001b[1;36m3\u001b[0m    \u001b[1m{\u001b[0m\u001b[32m'role'\u001b[0m: \u001b[32m'assistant'\u001b[0m, \u001b[32m'content'\u001b[0m: 'Timestamps: \u001b[33m...\u001b[0m\n",
       "\u001b[1;36m4\u001b[0m    \u001b[1m{\u001b[0m\u001b[32m'role'\u001b[0m: \u001b[32m'user'\u001b[0m, \u001b[32m'content'\u001b[0m: 'Generate the time\u001b[33m...\u001b[0m\n",
       "..                                                 \u001b[33m...\u001b[0m\n",
       "\u001b[1;36m211\u001b[0m  \u001b[1m{\u001b[0m\u001b[32m'role'\u001b[0m: \u001b[32m'assistant'\u001b[0m, \u001b[32m'content'\u001b[0m: 'Timestamps: \u001b[33m...\u001b[0m\n",
       "\u001b[1;36m212\u001b[0m  \u001b[1m{\u001b[0m\u001b[32m'role'\u001b[0m: \u001b[32m'user'\u001b[0m, \u001b[32m'content'\u001b[0m: 'Generate the time\u001b[33m...\u001b[0m\n",
       "\u001b[1;36m213\u001b[0m  \u001b[1m{\u001b[0m\u001b[32m'role'\u001b[0m: \u001b[32m'assistant'\u001b[0m, \u001b[32m'content'\u001b[0m: 'Timestamps: \u001b[33m...\u001b[0m\n",
       "\u001b[1;36m214\u001b[0m  \u001b[1m{\u001b[0m\u001b[32m'role'\u001b[0m: \u001b[32m'user'\u001b[0m, \u001b[32m'content'\u001b[0m: 'Generate the time\u001b[33m...\u001b[0m\n",
       "\u001b[1;36m215\u001b[0m               \u001b[1m{\u001b[0m\u001b[32m'role'\u001b[0m: \u001b[32m'assistant'\u001b[0m, \u001b[32m'content'\u001b[0m: \u001b[32m''\u001b[0m\u001b[1m}\u001b[0m\n",
       "\n",
       "\u001b[1m[\u001b[0m\u001b[1;36m216\u001b[0m rows x \u001b[1;36m1\u001b[0m columns\u001b[1m]\u001b[0m\n"
      ]
     },
     "metadata": {},
     "output_type": "display_data"
    },
    {
     "data": {
      "text/html": [
       "<pre style=\"white-space:pre;overflow-x:auto;line-height:normal;font-family:Menlo,'DejaVu Sans Mono',consolas,'Courier New',monospace\">                                              messages\n",
       "<span style=\"color: #008080; text-decoration-color: #008080; font-weight: bold\">172</span>  <span style=\"font-weight: bold\">{</span><span style=\"color: #008000; text-decoration-color: #008000\">'role'</span>: <span style=\"color: #008000; text-decoration-color: #008000\">'user'</span>, <span style=\"color: #008000; text-decoration-color: #008000\">'content'</span>: 'Generate the time<span style=\"color: #808000; text-decoration-color: #808000\">...</span>\n",
       "<span style=\"color: #008080; text-decoration-color: #008080; font-weight: bold\">186</span>  <span style=\"font-weight: bold\">{</span><span style=\"color: #008000; text-decoration-color: #008000\">'role'</span>: <span style=\"color: #008000; text-decoration-color: #008000\">'user'</span>, <span style=\"color: #008000; text-decoration-color: #008000\">'content'</span>: 'Generate the time<span style=\"color: #808000; text-decoration-color: #808000\">...</span>\n",
       "<span style=\"color: #008080; text-decoration-color: #008080; font-weight: bold\">194</span>  <span style=\"font-weight: bold\">{</span><span style=\"color: #008000; text-decoration-color: #008000\">'role'</span>: <span style=\"color: #008000; text-decoration-color: #008000\">'user'</span>, <span style=\"color: #008000; text-decoration-color: #008000\">'content'</span>: 'Generate the time<span style=\"color: #808000; text-decoration-color: #808000\">...</span>\n",
       "<span style=\"color: #008080; text-decoration-color: #008080; font-weight: bold\">78</span>   <span style=\"font-weight: bold\">{</span><span style=\"color: #008000; text-decoration-color: #008000\">'role'</span>: <span style=\"color: #008000; text-decoration-color: #008000\">'user'</span>, <span style=\"color: #008000; text-decoration-color: #008000\">'content'</span>: 'Generate the time<span style=\"color: #808000; text-decoration-color: #808000\">...</span>\n",
       "<span style=\"color: #008080; text-decoration-color: #008080; font-weight: bold\">169</span>  <span style=\"font-weight: bold\">{</span><span style=\"color: #008000; text-decoration-color: #008000\">'role'</span>: <span style=\"color: #008000; text-decoration-color: #008000\">'assistant'</span>, <span style=\"color: #008000; text-decoration-color: #008000\">'content'</span>: 'Timestamps: <span style=\"color: #808000; text-decoration-color: #808000\">...</span>\n",
       "..                                                 <span style=\"color: #808000; text-decoration-color: #808000\">...</span>\n",
       "<span style=\"color: #008080; text-decoration-color: #008080; font-weight: bold\">56</span>   <span style=\"font-weight: bold\">{</span><span style=\"color: #008000; text-decoration-color: #008000\">'role'</span>: <span style=\"color: #008000; text-decoration-color: #008000\">'user'</span>, <span style=\"color: #008000; text-decoration-color: #008000\">'content'</span>: 'Generate the time<span style=\"color: #808000; text-decoration-color: #808000\">...</span>\n",
       "<span style=\"color: #008080; text-decoration-color: #008080; font-weight: bold\">211</span>  <span style=\"font-weight: bold\">{</span><span style=\"color: #008000; text-decoration-color: #008000\">'role'</span>: <span style=\"color: #008000; text-decoration-color: #008000\">'assistant'</span>, <span style=\"color: #008000; text-decoration-color: #008000\">'content'</span>: 'Timestamps: <span style=\"color: #808000; text-decoration-color: #808000\">...</span>\n",
       "<span style=\"color: #008080; text-decoration-color: #008080; font-weight: bold\">134</span>  <span style=\"font-weight: bold\">{</span><span style=\"color: #008000; text-decoration-color: #008000\">'role'</span>: <span style=\"color: #008000; text-decoration-color: #008000\">'user'</span>, <span style=\"color: #008000; text-decoration-color: #008000\">'content'</span>: 'Generate the time<span style=\"color: #808000; text-decoration-color: #808000\">...</span>\n",
       "<span style=\"color: #008080; text-decoration-color: #008080; font-weight: bold\">139</span>  <span style=\"font-weight: bold\">{</span><span style=\"color: #008000; text-decoration-color: #008000\">'role'</span>: <span style=\"color: #008000; text-decoration-color: #008000\">'assistant'</span>, <span style=\"color: #008000; text-decoration-color: #008000\">'content'</span>: 'Timestamps: <span style=\"color: #808000; text-decoration-color: #808000\">...</span>\n",
       "<span style=\"color: #008080; text-decoration-color: #008080; font-weight: bold\">207</span>  <span style=\"font-weight: bold\">{</span><span style=\"color: #008000; text-decoration-color: #008000\">'role'</span>: <span style=\"color: #008000; text-decoration-color: #008000\">'assistant'</span>, <span style=\"color: #008000; text-decoration-color: #008000\">'content'</span>: 'Timestamps: <span style=\"color: #808000; text-decoration-color: #808000\">...</span>\n",
       "\n",
       "<span style=\"font-weight: bold\">[</span><span style=\"color: #008080; text-decoration-color: #008080; font-weight: bold\">205</span> rows x <span style=\"color: #008080; text-decoration-color: #008080; font-weight: bold\">1</span> columns<span style=\"font-weight: bold\">]</span>\n",
       "</pre>\n"
      ],
      "text/plain": [
       "                                              messages\n",
       "\u001b[1;36m172\u001b[0m  \u001b[1m{\u001b[0m\u001b[32m'role'\u001b[0m: \u001b[32m'user'\u001b[0m, \u001b[32m'content'\u001b[0m: 'Generate the time\u001b[33m...\u001b[0m\n",
       "\u001b[1;36m186\u001b[0m  \u001b[1m{\u001b[0m\u001b[32m'role'\u001b[0m: \u001b[32m'user'\u001b[0m, \u001b[32m'content'\u001b[0m: 'Generate the time\u001b[33m...\u001b[0m\n",
       "\u001b[1;36m194\u001b[0m  \u001b[1m{\u001b[0m\u001b[32m'role'\u001b[0m: \u001b[32m'user'\u001b[0m, \u001b[32m'content'\u001b[0m: 'Generate the time\u001b[33m...\u001b[0m\n",
       "\u001b[1;36m78\u001b[0m   \u001b[1m{\u001b[0m\u001b[32m'role'\u001b[0m: \u001b[32m'user'\u001b[0m, \u001b[32m'content'\u001b[0m: 'Generate the time\u001b[33m...\u001b[0m\n",
       "\u001b[1;36m169\u001b[0m  \u001b[1m{\u001b[0m\u001b[32m'role'\u001b[0m: \u001b[32m'assistant'\u001b[0m, \u001b[32m'content'\u001b[0m: 'Timestamps: \u001b[33m...\u001b[0m\n",
       "..                                                 \u001b[33m...\u001b[0m\n",
       "\u001b[1;36m56\u001b[0m   \u001b[1m{\u001b[0m\u001b[32m'role'\u001b[0m: \u001b[32m'user'\u001b[0m, \u001b[32m'content'\u001b[0m: 'Generate the time\u001b[33m...\u001b[0m\n",
       "\u001b[1;36m211\u001b[0m  \u001b[1m{\u001b[0m\u001b[32m'role'\u001b[0m: \u001b[32m'assistant'\u001b[0m, \u001b[32m'content'\u001b[0m: 'Timestamps: \u001b[33m...\u001b[0m\n",
       "\u001b[1;36m134\u001b[0m  \u001b[1m{\u001b[0m\u001b[32m'role'\u001b[0m: \u001b[32m'user'\u001b[0m, \u001b[32m'content'\u001b[0m: 'Generate the time\u001b[33m...\u001b[0m\n",
       "\u001b[1;36m139\u001b[0m  \u001b[1m{\u001b[0m\u001b[32m'role'\u001b[0m: \u001b[32m'assistant'\u001b[0m, \u001b[32m'content'\u001b[0m: 'Timestamps: \u001b[33m...\u001b[0m\n",
       "\u001b[1;36m207\u001b[0m  \u001b[1m{\u001b[0m\u001b[32m'role'\u001b[0m: \u001b[32m'assistant'\u001b[0m, \u001b[32m'content'\u001b[0m: 'Timestamps: \u001b[33m...\u001b[0m\n",
       "\n",
       "\u001b[1m[\u001b[0m\u001b[1;36m205\u001b[0m rows x \u001b[1;36m1\u001b[0m columns\u001b[1m]\u001b[0m\n"
      ]
     },
     "metadata": {},
     "output_type": "display_data"
    },
    {
     "data": {
      "text/html": [
       "<pre style=\"white-space:pre;overflow-x:auto;line-height:normal;font-family:Menlo,'DejaVu Sans Mono',consolas,'Courier New',monospace\"><span style=\"font-weight: bold\">{</span>\n",
       "    <span style=\"color: #008000; text-decoration-color: #008000\">'role'</span>: <span style=\"color: #008000; text-decoration-color: #008000\">'user'</span>,\n",
       "    <span style=\"color: #008000; text-decoration-color: #008000\">'content'</span>: <span style=\"color: #008000; text-decoration-color: #008000\">\"Generate the timestamps by following these rules: 1) I need only titles and timestamps 2)Timestamps</span>\n",
       "<span style=\"color: #008000; text-decoration-color: #008000\">should be on the left before the title 3)Convert the timestamps to minutes, in transcripts they are in seconds </span>\n",
       "<span style=\"color: #008000; text-decoration-color: #008000\">(Example: 341.28 seconds = 5:41 (5 minutes and 41 seconds), only chapter them into 10 or fewer chapters(Does have </span>\n",
       "<span style=\"color: #008000; text-decoration-color: #008000\">to be 10, if it lasts less than 10 minutes long, generate less than 10 chapters) Transcripts:0.27 - - Hey y'all, </span>\n",
       "<span style=\"color: #008000; text-decoration-color: #008000\">it's Aurelius. Hope you're doing well. 2.13 - In this video, you're going to learn eight websites 4.5 - to learn </span>\n",
       "<span style=\"color: #008000; text-decoration-color: #008000\">digital marketing for free. 7.11 - Any of these websites that I mentioned in this video, 9.48 - I'll link up in the</span>\n",
       "<span style=\"color: #008000; text-decoration-color: #008000\">description box below, 11.25 - as well as timestamps to help you navigate 13.29 - through this video. 14.31 - Let's</span>\n",
       "<span style=\"color: #008000; text-decoration-color: #008000\">get started with the first website. 16.23 - This one's from Coursera. 17.46 - What you do is you search for digital</span>\n",
       "<span style=\"color: #008000; text-decoration-color: #008000\">marketing at the top. 20.13 - There are 422 results. 22.62 - And for example, you wanna take 24.69 - this Meta </span>\n",
       "<span style=\"color: #008000; text-decoration-color: #008000\">Social Media Marketing Course. 27.57 - You'll see that you can enrol for free. 29.34 - There are currently 121,000 </span>\n",
       "<span style=\"color: #008000; text-decoration-color: #008000\">already enrolled. 32.76 - Here's what you'll learn and skills that you'll gain. 36.06 - Scroll below and you'll see</span>\n",
       "<span style=\"color: #008000; text-decoration-color: #008000\">there are six courses 38.85 - in this professional certificate, such as this introduction, 42.42 - you've got </span>\n",
       "<span style=\"color: #008000; text-decoration-color: #008000\">social media management, fundamentals, 44.97 - advertising with Meta and much more. 47.61 - To get started on </span>\n",
       "<span style=\"color: #008000; text-decoration-color: #008000\">Coursera, 49.11 - simply click the Enrol for free button 51.36 - on any of the courses and sign up. 54.45 - This </span>\n",
       "<span style=\"color: #008000; text-decoration-color: #008000\">next website to learn digital marketing 56.37 - is from none other than digitalmarketer.com. 59.28 - In fact, it's </span>\n",
       "<span style=\"color: #008000; text-decoration-color: #008000\">one of the first places I went to 62.37 - to learn digital marketing when it comes to things 64.77 - like building </span>\n",
       "<span style=\"color: #008000; text-decoration-color: #008000\">sales funnels, pay per click marketing, 67.71 - Google Ads, and so much more. 69.81 - But the one particular course</span>\n",
       "<span style=\"color: #008000; text-decoration-color: #008000\">or guide that I wanna 72.69 - point out is it's Ultimate Guide to Digital Marketing. 76.47 - Again, I've provided </span>\n",
       "<span style=\"color: #008000; text-decoration-color: #008000\">all the links to the websites 78.81 - that I mentioned in this video down below. 80.91 - What's great about this </span>\n",
       "<span style=\"color: #008000; text-decoration-color: #008000\">course is that 82.62 - when you go straight to the link, 84.09 - you can get started right away. 85.44 - There's no</span>\n",
       "<span style=\"color: #008000; text-decoration-color: #008000\">sign up required. 87.03 - Everything is in this article format 89.4 - with links that are relevant 91.68 - and if </span>\n",
       "<span style=\"color: #008000; text-decoration-color: #008000\">you wanna save time, you can download a PDF form, 95.76 - but you do need to opt in, as you can see. 98.01 - </span>\n",
       "<span style=\"color: #008000; text-decoration-color: #008000\">Navigating through this guide is really easy. 100.02 - If you look on the left, you've got the navigation, 102.51 -</span>\n",
       "<span style=\"color: #008000; text-decoration-color: #008000\">which will take you to different chapters of the guide. 105.33 - If you're just starting out in digital marketing, </span>\n",
       "<span style=\"color: #008000; text-decoration-color: #008000\">107.1 - this is a great fundamental course to go through. 109.38 - You'll see with chapter one, goes through the </span>\n",
       "<span style=\"color: #008000; text-decoration-color: #008000\">strategy 112.77 - such as the customer value journey. 114.99 - Step one, awareness, step two, engagement, 118.23 - </span>\n",
       "<span style=\"color: #008000; text-decoration-color: #008000\">so on and so forth. 119.88 - Next you've got Udemy.com. 121.71 - If you go to Udemy.com and simply do a search </span>\n",
       "<span style=\"color: #008000; text-decoration-color: #008000\">124.71 - for free digital marketing course, 127.14 - the first one is a great option. 129.24 - You've got this Free</span>\n",
       "<span style=\"color: #008000; text-decoration-color: #008000\">Digital Marketing Basics Course. 132.03 - Over 140,000 students have taken this course. 135.48 - The length of this</span>\n",
       "<span style=\"color: #008000; text-decoration-color: #008000\">course is five hours and 45 minutes. 139.44 - Clicking on course content, you can see what's involved. 142.5 - </span>\n",
       "<span style=\"color: #008000; text-decoration-color: #008000\">You've got introduction to digital marketing, 145.35 - various modules of digital marketing 147.51 - and practical </span>\n",
       "<span style=\"color: #008000; text-decoration-color: #008000\">digital marketing techniques. 150.48 - So take a look at some of the courses offered at Udemy.com. 153.57 - There's</span>\n",
       "<span style=\"color: #008000; text-decoration-color: #008000\">a range of digital marketing courses, 155.49 - not only the basics but you can filter it 158.16 - by different </span>\n",
       "<span style=\"color: #008000; text-decoration-color: #008000\">levels. 159.45 - Again, search for free digital marketing course 162.12 - to bring up those free courses. 164.43 - </span>\n",
       "<span style=\"color: #008000; text-decoration-color: #008000\">Now, my next couple of recommendations 165.99 - is from Google themselves. 168.03 - This first one is called </span>\n",
       "<span style=\"color: #008000; text-decoration-color: #008000\">fundamentals of digital marketing. 171.24 - You'll see the course details, 172.44 - there are 26 modules and a </span>\n",
       "<span style=\"color: #008000; text-decoration-color: #008000\">whopping 40 hours of training. 176.49 - The modules include the online opportunity, 178.8 - your first steps in </span>\n",
       "<span style=\"color: #008000; text-decoration-color: #008000\">online success, 180.75 - we've got plan your online business strategy, 183.09 - get started with search and more. </span>\n",
       "<span style=\"color: #008000; text-decoration-color: #008000\">185.31 - The difference between taking a course from Google 187.38 - and ones I already mentioned in this video </span>\n",
       "<span style=\"color: #008000; text-decoration-color: #008000\">189.18 - is the fact that it's from Google themselves. 192.06 - Once you've completed your course, 193.68 - you get</span>\n",
       "<span style=\"color: #008000; text-decoration-color: #008000\">this certification, which you can then spotlight 196.47 - and showcase on your resume, your CV or your portfolio. </span>\n",
       "<span style=\"color: #008000; text-decoration-color: #008000\">200.19 - So whenever you are going to apply for a job 202.86 - or you're a freelancer or you've got an agency, </span>\n",
       "<span style=\"color: #008000; text-decoration-color: #008000\">206.28 - you've got that to show. 207.6 - This next course from Google is a blend 209.49 - of digital marketing and</span>\n",
       "<span style=\"color: #008000; text-decoration-color: #008000\">eCommerce. 211.14 - So if you wanna get into that space, 212.64 - this one is perfect for you. 214.62 - It's called</span>\n",
       "<span style=\"color: #008000; text-decoration-color: #008000\">Digital Marketing and E-commerce certificate. 217.08 - No relevant experience required. 218.52 - 100 percent </span>\n",
       "<span style=\"color: #008000; text-decoration-color: #008000\">remote, online learning 220.05 - and under 10 hours of study a week. 222.93 - The course curriculum includes </span>\n",
       "<span style=\"color: #008000; text-decoration-color: #008000\">foundations 225.42 - of digital marketing and E-commerce, 226.95 - attracting and engaging customers through </span>\n",
       "<span style=\"color: #008000; text-decoration-color: #008000\">digital marketing, 229.41 - content marketing, email marketing, 231.51 - marketing analytics and measurement, </span>\n",
       "<span style=\"color: #008000; text-decoration-color: #008000\">233.04 - build, launch and manage E-commerce stores, 234.87 - develop and maintain customer loyalty online. 237.81 </span>\n",
       "<span style=\"color: #008000; text-decoration-color: #008000\">- In my opinion, this covers a lot of ground. 239.82 - If you want to get into the space 241.08 - of digital </span>\n",
       "<span style=\"color: #008000; text-decoration-color: #008000\">marketing with E-commerce. 243.48 - Now with the Google course is out of the way, 244.98 - the next website to </span>\n",
       "<span style=\"color: #008000; text-decoration-color: #008000\">learn digital marketing 246.93 - is from Future Learn. 248.49 - This one's presented by Accenture. 250.74 - It's </span>\n",
       "<span style=\"color: #008000; text-decoration-color: #008000\">called Digital Skills: Digital Marketing. 253.14 - You'll learn some of the different 254.13 - digital marketing </span>\n",
       "<span style=\"color: #008000; text-decoration-color: #008000\">strategies and techniques 255.75 - that are available for businesses to use 258.18 - and this one's got a tonne of </span>\n",
       "<span style=\"color: #008000; text-decoration-color: #008000\">great ratings 261.0 - so I highly recommend you take this one. 263.34 - It is two weeks long, weekly study of two </span>\n",
       "<span style=\"color: #008000; text-decoration-color: #008000\">hours 267.03 - and it is free, once again. 268.95 - With this course as well, 269.94 - you get accreditation once </span>\n",
       "<span style=\"color: #008000; text-decoration-color: #008000\">completed. 272.28 - During the two weeks, here's what you'll learn. 273.9 - Week one, how to use digital marketing,</span>\n",
       "<span style=\"color: #008000; text-decoration-color: #008000\">275.7 - including pay per click advertising. 277.68 - Week two. you'll learn digital marketing techniques 280.2 - </span>\n",
       "<span style=\"color: #008000; text-decoration-color: #008000\">such as SEO, email marketing 282.57 - and how to integrate these techniques altogether. 285.09 - Next up, </span>\n",
       "<span style=\"color: #008000; text-decoration-color: #008000\">HubSpot.com's got a range 287.16 - of digital marketing courses 288.81 - from digital marketing itself. 290.61 - </span>\n",
       "<span style=\"color: #008000; text-decoration-color: #008000\">You've got Excel for Marketers. 292.71 - You've got online sales training, ads training. 295.56 - Let's take a look</span>\n",
       "<span style=\"color: #008000; text-decoration-color: #008000\">at this one. 296.55 - We've got Twitter Strategy Course. 298.89 - Here's a preview of it and here's a full 301.38 -</span>\n",
       "<span style=\"color: #008000; text-decoration-color: #008000\">what you'll learn, the course modules, 303.93 - including four lessons, twelve videos, 305.88 - four quizzes and </span>\n",
       "<span style=\"color: #008000; text-decoration-color: #008000\">two hours in total. 308.97 - Here's a course curriculum. 310.17 - Lesson one, you've got building 311.58 - and </span>\n",
       "<span style=\"color: #008000; text-decoration-color: #008000\">growing your Twitter audience. 313.32 - Lesson two, the power of networking and engagement 316.2 - and some of </span>\n",
       "<span style=\"color: #008000; text-decoration-color: #008000\">these other ones. 317.76 - One course that I took at HubSpot is 319.59 - this Content Marketing Certification </span>\n",
       "<span style=\"color: #008000; text-decoration-color: #008000\">Course. 322.44 - It's quite a comprehensive course, as you can see, 324.36 - with the many lessons and videos that </span>\n",
       "<span style=\"color: #008000; text-decoration-color: #008000\">it offers. 327.6 - Also, when you successfully completed a course 329.37 - at HubSpot, you do get a certification. </span>\n",
       "<span style=\"color: #008000; text-decoration-color: #008000\">331.89 - With those certifications, you can feature it 333.75 - on your resume, but what you can also do 335.46 - </span>\n",
       "<span style=\"color: #008000; text-decoration-color: #008000\">is feature it on your LinkedIn bio. 337.86 - So I've got it right here, down the bottom. 339.9 - You've got this </span>\n",
       "<span style=\"color: #008000; text-decoration-color: #008000\">content marketing certification. 342.96 - That's the one I took and I feature it right there 345.51 - under </span>\n",
       "<span style=\"color: #008000; text-decoration-color: #008000\">licences and certifications. 348.33 - Next up, if you wanna dive deep 349.62 - in pay per click marketing </span>\n",
       "<span style=\"color: #008000; text-decoration-color: #008000\">specifically, 352.02 - I recommend going to wordstream.com/learn. 355.38 - And you'll land on this page 356.85 - </span>\n",
       "<span style=\"color: #008000; text-decoration-color: #008000\">called Pay Per Click University. 359.16 - You can go through the courses such as Pay Per Click 101, 362.52 - which </span>\n",
       "<span style=\"color: #008000; text-decoration-color: #008000\">is the basics, you've got 102 364.47 - and Advanced Pay Per Click. 366.45 - For your info, pay per click involves </span>\n",
       "<span style=\"color: #008000; text-decoration-color: #008000\">things 368.37 - like Facebook ads and Google ads. 370.47 - You've also got other things such as social ads. 373.08 </span>\n",
       "<span style=\"color: #008000; text-decoration-color: #008000\">- You've got Facebook advertising, Instagram advertising, 375.6 - LinkedIn, YouTube, and much more. 377.82 - Let's </span>\n",
       "<span style=\"color: #008000; text-decoration-color: #008000\">say you wanna learn how to find the right keywords, 380.13 - let's click on that and here's the article 382.62 - in</span>\n",
       "<span style=\"color: #008000; text-decoration-color: #008000\">this entertaining format. 384.54 - Everything's laid out in this step by step fashion. 386.85 - You've got </span>\n",
       "<span style=\"color: #008000; text-decoration-color: #008000\">screenshots as well. 388.89 - And you've got some examples, too. 391.5 - All right, all in, those are the eight </span>\n",
       "<span style=\"color: #008000; text-decoration-color: #008000\">websites 393.27 - to learn digital marketing for free. 395.1 - If you wanna get into the space of digital marketing</span>\n",
       "<span style=\"color: #008000; text-decoration-color: #008000\">397.23 - and this whole online business space, 399.36 - I highly recommend you take some of these courses 402.15 - </span>\n",
       "<span style=\"color: #008000; text-decoration-color: #008000\">because, as you know, the internet 403.86 - and social media is ever evolving, always changing. 407.31 - So it's </span>\n",
       "<span style=\"color: #008000; text-decoration-color: #008000\">always good to stay up to date and keep learning. 410.55 - That's all for me. Thanks so much for watching. 412.35 -</span>\n",
       "<span style=\"color: #008000; text-decoration-color: #008000\">Do give this video a quick thumbs up 413.97 - if you found it helpful and I'm looking forward 416.04 - to sharing </span>\n",
       "<span style=\"color: #008000; text-decoration-color: #008000\">the next training with you.\"</span>\n",
       "<span style=\"font-weight: bold\">}</span>\n",
       "</pre>\n"
      ],
      "text/plain": [
       "\u001b[1m{\u001b[0m\n",
       "    \u001b[32m'role'\u001b[0m: \u001b[32m'user'\u001b[0m,\n",
       "    \u001b[32m'content'\u001b[0m: \u001b[32m\"Generate the timestamps by following these rules: 1\u001b[0m\u001b[32m)\u001b[0m\u001b[32m I need only titles and timestamps 2\u001b[0m\u001b[32m)\u001b[0m\u001b[32mTimestamps\u001b[0m\n",
       "\u001b[32mshould be on the left before the title 3\u001b[0m\u001b[32m)\u001b[0m\u001b[32mConvert the timestamps to minutes, in transcripts they are in seconds \u001b[0m\n",
       "\u001b[32m(\u001b[0m\u001b[32mExample: 341.28 seconds = 5:41 \u001b[0m\u001b[32m(\u001b[0m\u001b[32m5 minutes and 41 seconds\u001b[0m\u001b[32m)\u001b[0m\u001b[32m, only chapter them into 10 or fewer chapters\u001b[0m\u001b[32m(\u001b[0m\u001b[32mDoes have \u001b[0m\n",
       "\u001b[32mto be 10, if it lasts less than 10 minutes long, generate less than 10 chapters\u001b[0m\u001b[32m)\u001b[0m\u001b[32m Transcripts:0.27 - - Hey y'all, \u001b[0m\n",
       "\u001b[32mit's Aurelius. Hope you're doing well. 2.13 - In this video, you're going to learn eight websites 4.5 - to learn \u001b[0m\n",
       "\u001b[32mdigital marketing for free. 7.11 - Any of these websites that I mentioned in this video, 9.48 - I'll link up in the\u001b[0m\n",
       "\u001b[32mdescription box below, 11.25 - as well as timestamps to help you navigate 13.29 - through this video. 14.31 - Let's\u001b[0m\n",
       "\u001b[32mget started with the first website. 16.23 - This one's from Coursera. 17.46 - What you do is you search for digital\u001b[0m\n",
       "\u001b[32mmarketing at the top. 20.13 - There are 422 results. 22.62 - And for example, you wanna take 24.69 - this Meta \u001b[0m\n",
       "\u001b[32mSocial Media Marketing Course. 27.57 - You'll see that you can enrol for free. 29.34 - There are currently 121,000 \u001b[0m\n",
       "\u001b[32malready enrolled. 32.76 - Here's what you'll learn and skills that you'll gain. 36.06 - Scroll below and you'll see\u001b[0m\n",
       "\u001b[32mthere are six courses 38.85 - in this professional certificate, such as this introduction, 42.42 - you've got \u001b[0m\n",
       "\u001b[32msocial media management, fundamentals, 44.97 - advertising with Meta and much more. 47.61 - To get started on \u001b[0m\n",
       "\u001b[32mCoursera, 49.11 - simply click the Enrol for free button 51.36 - on any of the courses and sign up. 54.45 - This \u001b[0m\n",
       "\u001b[32mnext website to learn digital marketing 56.37 - is from none other than digitalmarketer.com. 59.28 - In fact, it's \u001b[0m\n",
       "\u001b[32mone of the first places I went to 62.37 - to learn digital marketing when it comes to things 64.77 - like building \u001b[0m\n",
       "\u001b[32msales funnels, pay per click marketing, 67.71 - Google Ads, and so much more. 69.81 - But the one particular course\u001b[0m\n",
       "\u001b[32mor guide that I wanna 72.69 - point out is it's Ultimate Guide to Digital Marketing. 76.47 - Again, I've provided \u001b[0m\n",
       "\u001b[32mall the links to the websites 78.81 - that I mentioned in this video down below. 80.91 - What's great about this \u001b[0m\n",
       "\u001b[32mcourse is that 82.62 - when you go straight to the link, 84.09 - you can get started right away. 85.44 - There's no\u001b[0m\n",
       "\u001b[32msign up required. 87.03 - Everything is in this article format 89.4 - with links that are relevant 91.68 - and if \u001b[0m\n",
       "\u001b[32myou wanna save time, you can download a PDF form, 95.76 - but you do need to opt in, as you can see. 98.01 - \u001b[0m\n",
       "\u001b[32mNavigating through this guide is really easy. 100.02 - If you look on the left, you've got the navigation, 102.51 -\u001b[0m\n",
       "\u001b[32mwhich will take you to different chapters of the guide. 105.33 - If you're just starting out in digital marketing, \u001b[0m\n",
       "\u001b[32m107.1 - this is a great fundamental course to go through. 109.38 - You'll see with chapter one, goes through the \u001b[0m\n",
       "\u001b[32mstrategy 112.77 - such as the customer value journey. 114.99 - Step one, awareness, step two, engagement, 118.23 - \u001b[0m\n",
       "\u001b[32mso on and so forth. 119.88 - Next you've got Udemy.com. 121.71 - If you go to Udemy.com and simply do a search \u001b[0m\n",
       "\u001b[32m124.71 - for free digital marketing course, 127.14 - the first one is a great option. 129.24 - You've got this Free\u001b[0m\n",
       "\u001b[32mDigital Marketing Basics Course. 132.03 - Over 140,000 students have taken this course. 135.48 - The length of this\u001b[0m\n",
       "\u001b[32mcourse is five hours and 45 minutes. 139.44 - Clicking on course content, you can see what's involved. 142.5 - \u001b[0m\n",
       "\u001b[32mYou've got introduction to digital marketing, 145.35 - various modules of digital marketing 147.51 - and practical \u001b[0m\n",
       "\u001b[32mdigital marketing techniques. 150.48 - So take a look at some of the courses offered at Udemy.com. 153.57 - There's\u001b[0m\n",
       "\u001b[32ma range of digital marketing courses, 155.49 - not only the basics but you can filter it 158.16 - by different \u001b[0m\n",
       "\u001b[32mlevels. 159.45 - Again, search for free digital marketing course 162.12 - to bring up those free courses. 164.43 - \u001b[0m\n",
       "\u001b[32mNow, my next couple of recommendations 165.99 - is from Google themselves. 168.03 - This first one is called \u001b[0m\n",
       "\u001b[32mfundamentals of digital marketing. 171.24 - You'll see the course details, 172.44 - there are 26 modules and a \u001b[0m\n",
       "\u001b[32mwhopping 40 hours of training. 176.49 - The modules include the online opportunity, 178.8 - your first steps in \u001b[0m\n",
       "\u001b[32monline success, 180.75 - we've got plan your online business strategy, 183.09 - get started with search and more. \u001b[0m\n",
       "\u001b[32m185.31 - The difference between taking a course from Google 187.38 - and ones I already mentioned in this video \u001b[0m\n",
       "\u001b[32m189.18 - is the fact that it's from Google themselves. 192.06 - Once you've completed your course, 193.68 - you get\u001b[0m\n",
       "\u001b[32mthis certification, which you can then spotlight 196.47 - and showcase on your resume, your CV or your portfolio. \u001b[0m\n",
       "\u001b[32m200.19 - So whenever you are going to apply for a job 202.86 - or you're a freelancer or you've got an agency, \u001b[0m\n",
       "\u001b[32m206.28 - you've got that to show. 207.6 - This next course from Google is a blend 209.49 - of digital marketing and\u001b[0m\n",
       "\u001b[32meCommerce. 211.14 - So if you wanna get into that space, 212.64 - this one is perfect for you. 214.62 - It's called\u001b[0m\n",
       "\u001b[32mDigital Marketing and E-commerce certificate. 217.08 - No relevant experience required. 218.52 - 100 percent \u001b[0m\n",
       "\u001b[32mremote, online learning 220.05 - and under 10 hours of study a week. 222.93 - The course curriculum includes \u001b[0m\n",
       "\u001b[32mfoundations 225.42 - of digital marketing and E-commerce, 226.95 - attracting and engaging customers through \u001b[0m\n",
       "\u001b[32mdigital marketing, 229.41 - content marketing, email marketing, 231.51 - marketing analytics and measurement, \u001b[0m\n",
       "\u001b[32m233.04 - build, launch and manage E-commerce stores, 234.87 - develop and maintain customer loyalty online. 237.81 \u001b[0m\n",
       "\u001b[32m- In my opinion, this covers a lot of ground. 239.82 - If you want to get into the space 241.08 - of digital \u001b[0m\n",
       "\u001b[32mmarketing with E-commerce. 243.48 - Now with the Google course is out of the way, 244.98 - the next website to \u001b[0m\n",
       "\u001b[32mlearn digital marketing 246.93 - is from Future Learn. 248.49 - This one's presented by Accenture. 250.74 - It's \u001b[0m\n",
       "\u001b[32mcalled Digital Skills: Digital Marketing. 253.14 - You'll learn some of the different 254.13 - digital marketing \u001b[0m\n",
       "\u001b[32mstrategies and techniques 255.75 - that are available for businesses to use 258.18 - and this one's got a tonne of \u001b[0m\n",
       "\u001b[32mgreat ratings 261.0 - so I highly recommend you take this one. 263.34 - It is two weeks long, weekly study of two \u001b[0m\n",
       "\u001b[32mhours 267.03 - and it is free, once again. 268.95 - With this course as well, 269.94 - you get accreditation once \u001b[0m\n",
       "\u001b[32mcompleted. 272.28 - During the two weeks, here's what you'll learn. 273.9 - Week one, how to use digital marketing,\u001b[0m\n",
       "\u001b[32m275.7 - including pay per click advertising. 277.68 - Week two. you'll learn digital marketing techniques 280.2 - \u001b[0m\n",
       "\u001b[32msuch as SEO, email marketing 282.57 - and how to integrate these techniques altogether. 285.09 - Next up, \u001b[0m\n",
       "\u001b[32mHubSpot.com's got a range 287.16 - of digital marketing courses 288.81 - from digital marketing itself. 290.61 - \u001b[0m\n",
       "\u001b[32mYou've got Excel for Marketers. 292.71 - You've got online sales training, ads training. 295.56 - Let's take a look\u001b[0m\n",
       "\u001b[32mat this one. 296.55 - We've got Twitter Strategy Course. 298.89 - Here's a preview of it and here's a full 301.38 -\u001b[0m\n",
       "\u001b[32mwhat you'll learn, the course modules, 303.93 - including four lessons, twelve videos, 305.88 - four quizzes and \u001b[0m\n",
       "\u001b[32mtwo hours in total. 308.97 - Here's a course curriculum. 310.17 - Lesson one, you've got building 311.58 - and \u001b[0m\n",
       "\u001b[32mgrowing your Twitter audience. 313.32 - Lesson two, the power of networking and engagement 316.2 - and some of \u001b[0m\n",
       "\u001b[32mthese other ones. 317.76 - One course that I took at HubSpot is 319.59 - this Content Marketing Certification \u001b[0m\n",
       "\u001b[32mCourse. 322.44 - It's quite a comprehensive course, as you can see, 324.36 - with the many lessons and videos that \u001b[0m\n",
       "\u001b[32mit offers. 327.6 - Also, when you successfully completed a course 329.37 - at HubSpot, you do get a certification. \u001b[0m\n",
       "\u001b[32m331.89 - With those certifications, you can feature it 333.75 - on your resume, but what you can also do 335.46 - \u001b[0m\n",
       "\u001b[32mis feature it on your LinkedIn bio. 337.86 - So I've got it right here, down the bottom. 339.9 - You've got this \u001b[0m\n",
       "\u001b[32mcontent marketing certification. 342.96 - That's the one I took and I feature it right there 345.51 - under \u001b[0m\n",
       "\u001b[32mlicences and certifications. 348.33 - Next up, if you wanna dive deep 349.62 - in pay per click marketing \u001b[0m\n",
       "\u001b[32mspecifically, 352.02 - I recommend going to wordstream.com/learn. 355.38 - And you'll land on this page 356.85 - \u001b[0m\n",
       "\u001b[32mcalled Pay Per Click University. 359.16 - You can go through the courses such as Pay Per Click 101, 362.52 - which \u001b[0m\n",
       "\u001b[32mis the basics, you've got 102 364.47 - and Advanced Pay Per Click. 366.45 - For your info, pay per click involves \u001b[0m\n",
       "\u001b[32mthings 368.37 - like Facebook ads and Google ads. 370.47 - You've also got other things such as social ads. 373.08 \u001b[0m\n",
       "\u001b[32m- You've got Facebook advertising, Instagram advertising, 375.6 - LinkedIn, YouTube, and much more. 377.82 - Let's \u001b[0m\n",
       "\u001b[32msay you wanna learn how to find the right keywords, 380.13 - let's click on that and here's the article 382.62 - in\u001b[0m\n",
       "\u001b[32mthis entertaining format. 384.54 - Everything's laid out in this step by step fashion. 386.85 - You've got \u001b[0m\n",
       "\u001b[32mscreenshots as well. 388.89 - And you've got some examples, too. 391.5 - All right, all in, those are the eight \u001b[0m\n",
       "\u001b[32mwebsites 393.27 - to learn digital marketing for free. 395.1 - If you wanna get into the space of digital marketing\u001b[0m\n",
       "\u001b[32m397.23 - and this whole online business space, 399.36 - I highly recommend you take some of these courses 402.15 - \u001b[0m\n",
       "\u001b[32mbecause, as you know, the internet 403.86 - and social media is ever evolving, always changing. 407.31 - So it's \u001b[0m\n",
       "\u001b[32malways good to stay up to date and keep learning. 410.55 - That's all for me. Thanks so much for watching. 412.35 -\u001b[0m\n",
       "\u001b[32mDo give this video a quick thumbs up 413.97 - if you found it helpful and I'm looking forward 416.04 - to sharing \u001b[0m\n",
       "\u001b[32mthe next training with you.\"\u001b[0m\n",
       "\u001b[1m}\u001b[0m\n"
      ]
     },
     "metadata": {},
     "output_type": "display_data"
    }
   ],
   "source": [
    "import pandas as pd\n",
    "from rich import print \n",
    "import json\n",
    "df = pd.read_json('/Users/mandy/Desktop/NLP/Project/mistral_training_data.json')\n",
    "print(df)\n",
    "df_train = df.sample(frac = 0.95, random_state= 200)\n",
    "df_eval = df.drop(df_train.index)\n",
    "print(df_train)\n",
    "\n",
    "train_records = df_train.to_dict(orient=\"records\")\n",
    "df_train.to_json(\"YoutubeTimestamps_train.jsonl\", orient=\"records\", lines=True)\n",
    "with open(\"YoutubeTimestamps_train.jsonl\", \"w\", encoding=\"utf-8\") as train_file:\n",
    "    for record in train_records:\n",
    "        train_file.write(json.dumps(record, ensure_ascii=False) + \"\\n\")\n",
    "\n",
    "\n",
    "df_eval.to_json(\"YoutubeTimestamps_eval.jsonl\", orient=\"records\", lines=True)\n",
    "\n",
    "\n",
    "# Convert evaluation DataFrame to JSONL format directly\n",
    "eval_records = df_eval.to_dict(orient=\"records\")\n",
    "with open(\"YoutubeTimestamps_eval.jsonl\", \"w\", encoding=\"utf-8\") as eval_file:\n",
    "    for record in eval_records:\n",
    "        eval_file.write(json.dumps(record, ensure_ascii=False) + \"\\n\")\n",
    "\n",
    "\n",
    "print(df_train.iloc[100]['messages'])"
   ]
  },
  {
   "cell_type": "code",
   "execution_count": 11,
   "metadata": {},
   "outputs": [
    {
     "ename": "SyntaxError",
     "evalue": "invalid syntax (2642291437.py, line 1)",
     "output_type": "error",
     "traceback": [
      "\u001b[0;36m  File \u001b[0;32m\"/var/folders/pk/vh_75fc94ln_vv7v0lnfl5tr0000gn/T/ipykernel_70316/2642291437.py\"\u001b[0;36m, line \u001b[0;32m1\u001b[0m\n\u001b[0;31m    wget https://raw.githubusercontent.com/mistralai/mistral-finetune/main/utils/reformat_data.py\u001b[0m\n\u001b[0m         ^\u001b[0m\n\u001b[0;31mSyntaxError\u001b[0m\u001b[0;31m:\u001b[0m invalid syntax\n"
     ]
    }
   ],
   "source": [
    "wget https://raw.githubusercontent.com/mistralai/mistral-finetune/main/utils/reformat_data.py"
   ]
  },
  {
   "cell_type": "code",
   "execution_count": 8,
   "metadata": {},
   "outputs": [
    {
     "name": "stdout",
     "output_type": "stream",
     "text": [
      "Requirement already satisfied: mistralai in /Users/mandy/opt/anaconda3/lib/python3.9/site-packages (1.2.3)\n",
      "Requirement already satisfied: python-dateutil==2.8.2 in /Users/mandy/opt/anaconda3/lib/python3.9/site-packages (from mistralai) (2.8.2)\n",
      "Requirement already satisfied: typing-inspect<0.10.0,>=0.9.0 in /Users/mandy/opt/anaconda3/lib/python3.9/site-packages (from mistralai) (0.9.0)\n",
      "Requirement already satisfied: pydantic<3.0.0,>=2.9.0 in /Users/mandy/opt/anaconda3/lib/python3.9/site-packages (from mistralai) (2.9.1)\n",
      "Requirement already satisfied: eval-type-backport<0.3.0,>=0.2.0 in /Users/mandy/opt/anaconda3/lib/python3.9/site-packages (from mistralai) (0.2.0)\n",
      "Requirement already satisfied: httpx<0.28.0,>=0.27.0 in /Users/mandy/opt/anaconda3/lib/python3.9/site-packages (from mistralai) (0.27.2)\n",
      "Requirement already satisfied: jsonpath-python<2.0.0,>=1.0.6 in /Users/mandy/opt/anaconda3/lib/python3.9/site-packages (from mistralai) (1.0.6)\n",
      "Requirement already satisfied: six>=1.5 in /Users/mandy/opt/anaconda3/lib/python3.9/site-packages (from python-dateutil==2.8.2->mistralai) (1.16.0)\n",
      "Requirement already satisfied: sniffio in /Users/mandy/opt/anaconda3/lib/python3.9/site-packages (from httpx<0.28.0,>=0.27.0->mistralai) (1.3.1)\n",
      "Requirement already satisfied: idna in /Users/mandy/opt/anaconda3/lib/python3.9/site-packages (from httpx<0.28.0,>=0.27.0->mistralai) (3.3)\n",
      "Requirement already satisfied: anyio in /Users/mandy/opt/anaconda3/lib/python3.9/site-packages (from httpx<0.28.0,>=0.27.0->mistralai) (3.5.0)\n",
      "Requirement already satisfied: httpcore==1.* in /Users/mandy/opt/anaconda3/lib/python3.9/site-packages (from httpx<0.28.0,>=0.27.0->mistralai) (1.0.7)\n",
      "Requirement already satisfied: certifi in /Users/mandy/opt/anaconda3/lib/python3.9/site-packages (from httpx<0.28.0,>=0.27.0->mistralai) (2022.9.24)\n",
      "Requirement already satisfied: h11<0.15,>=0.13 in /Users/mandy/opt/anaconda3/lib/python3.9/site-packages (from httpcore==1.*->httpx<0.28.0,>=0.27.0->mistralai) (0.14.0)\n",
      "Requirement already satisfied: pydantic-core==2.23.3 in /Users/mandy/opt/anaconda3/lib/python3.9/site-packages (from pydantic<3.0.0,>=2.9.0->mistralai) (2.23.3)\n",
      "Requirement already satisfied: annotated-types>=0.6.0 in /Users/mandy/opt/anaconda3/lib/python3.9/site-packages (from pydantic<3.0.0,>=2.9.0->mistralai) (0.7.0)\n",
      "Requirement already satisfied: typing-extensions>=4.6.1 in /Users/mandy/opt/anaconda3/lib/python3.9/site-packages (from pydantic<3.0.0,>=2.9.0->mistralai) (4.12.2)\n",
      "Requirement already satisfied: mypy-extensions>=0.3.0 in /Users/mandy/opt/anaconda3/lib/python3.9/site-packages (from typing-inspect<0.10.0,>=0.9.0->mistralai) (0.4.3)\n",
      "Note: you may need to restart the kernel to use updated packages.\n"
     ]
    }
   ],
   "source": [
    "pip install mistralai"
   ]
  },
  {
   "cell_type": "code",
   "execution_count": 12,
   "metadata": {},
   "outputs": [
    {
     "data": {
      "text/html": [
       "<pre style=\"white-space:pre;overflow-x:auto;line-height:normal;font-family:Menlo,'DejaVu Sans Mono',consolas,'Courier New',monospace\">                                              messages\n",
       "<span style=\"color: #008080; text-decoration-color: #008080; font-weight: bold\">172</span>  <span style=\"font-weight: bold\">{</span><span style=\"color: #008000; text-decoration-color: #008000\">'role'</span>: <span style=\"color: #008000; text-decoration-color: #008000\">'user'</span>, <span style=\"color: #008000; text-decoration-color: #008000\">'content'</span>: 'Generate the time<span style=\"color: #808000; text-decoration-color: #808000\">...</span>\n",
       "<span style=\"color: #008080; text-decoration-color: #008080; font-weight: bold\">186</span>  <span style=\"font-weight: bold\">{</span><span style=\"color: #008000; text-decoration-color: #008000\">'role'</span>: <span style=\"color: #008000; text-decoration-color: #008000\">'user'</span>, <span style=\"color: #008000; text-decoration-color: #008000\">'content'</span>: 'Generate the time<span style=\"color: #808000; text-decoration-color: #808000\">...</span>\n",
       "<span style=\"color: #008080; text-decoration-color: #008080; font-weight: bold\">194</span>  <span style=\"font-weight: bold\">{</span><span style=\"color: #008000; text-decoration-color: #008000\">'role'</span>: <span style=\"color: #008000; text-decoration-color: #008000\">'user'</span>, <span style=\"color: #008000; text-decoration-color: #008000\">'content'</span>: 'Generate the time<span style=\"color: #808000; text-decoration-color: #808000\">...</span>\n",
       "<span style=\"color: #008080; text-decoration-color: #008080; font-weight: bold\">78</span>   <span style=\"font-weight: bold\">{</span><span style=\"color: #008000; text-decoration-color: #008000\">'role'</span>: <span style=\"color: #008000; text-decoration-color: #008000\">'user'</span>, <span style=\"color: #008000; text-decoration-color: #008000\">'content'</span>: 'Generate the time<span style=\"color: #808000; text-decoration-color: #808000\">...</span>\n",
       "<span style=\"color: #008080; text-decoration-color: #008080; font-weight: bold\">169</span>  <span style=\"font-weight: bold\">{</span><span style=\"color: #008000; text-decoration-color: #008000\">'role'</span>: <span style=\"color: #008000; text-decoration-color: #008000\">'assistant'</span>, <span style=\"color: #008000; text-decoration-color: #008000\">'content'</span>: 'Timestamps: <span style=\"color: #808000; text-decoration-color: #808000\">...</span>\n",
       "..                                                 <span style=\"color: #808000; text-decoration-color: #808000\">...</span>\n",
       "<span style=\"color: #008080; text-decoration-color: #008080; font-weight: bold\">56</span>   <span style=\"font-weight: bold\">{</span><span style=\"color: #008000; text-decoration-color: #008000\">'role'</span>: <span style=\"color: #008000; text-decoration-color: #008000\">'user'</span>, <span style=\"color: #008000; text-decoration-color: #008000\">'content'</span>: 'Generate the time<span style=\"color: #808000; text-decoration-color: #808000\">...</span>\n",
       "<span style=\"color: #008080; text-decoration-color: #008080; font-weight: bold\">211</span>  <span style=\"font-weight: bold\">{</span><span style=\"color: #008000; text-decoration-color: #008000\">'role'</span>: <span style=\"color: #008000; text-decoration-color: #008000\">'assistant'</span>, <span style=\"color: #008000; text-decoration-color: #008000\">'content'</span>: 'Timestamps: <span style=\"color: #808000; text-decoration-color: #808000\">...</span>\n",
       "<span style=\"color: #008080; text-decoration-color: #008080; font-weight: bold\">134</span>  <span style=\"font-weight: bold\">{</span><span style=\"color: #008000; text-decoration-color: #008000\">'role'</span>: <span style=\"color: #008000; text-decoration-color: #008000\">'user'</span>, <span style=\"color: #008000; text-decoration-color: #008000\">'content'</span>: 'Generate the time<span style=\"color: #808000; text-decoration-color: #808000\">...</span>\n",
       "<span style=\"color: #008080; text-decoration-color: #008080; font-weight: bold\">139</span>  <span style=\"font-weight: bold\">{</span><span style=\"color: #008000; text-decoration-color: #008000\">'role'</span>: <span style=\"color: #008000; text-decoration-color: #008000\">'assistant'</span>, <span style=\"color: #008000; text-decoration-color: #008000\">'content'</span>: 'Timestamps: <span style=\"color: #808000; text-decoration-color: #808000\">...</span>\n",
       "<span style=\"color: #008080; text-decoration-color: #008080; font-weight: bold\">207</span>  <span style=\"font-weight: bold\">{</span><span style=\"color: #008000; text-decoration-color: #008000\">'role'</span>: <span style=\"color: #008000; text-decoration-color: #008000\">'assistant'</span>, <span style=\"color: #008000; text-decoration-color: #008000\">'content'</span>: 'Timestamps: <span style=\"color: #808000; text-decoration-color: #808000\">...</span>\n",
       "\n",
       "<span style=\"font-weight: bold\">[</span><span style=\"color: #008080; text-decoration-color: #008080; font-weight: bold\">205</span> rows x <span style=\"color: #008080; text-decoration-color: #008080; font-weight: bold\">1</span> columns<span style=\"font-weight: bold\">]</span>\n",
       "</pre>\n"
      ],
      "text/plain": [
       "                                              messages\n",
       "\u001b[1;36m172\u001b[0m  \u001b[1m{\u001b[0m\u001b[32m'role'\u001b[0m: \u001b[32m'user'\u001b[0m, \u001b[32m'content'\u001b[0m: 'Generate the time\u001b[33m...\u001b[0m\n",
       "\u001b[1;36m186\u001b[0m  \u001b[1m{\u001b[0m\u001b[32m'role'\u001b[0m: \u001b[32m'user'\u001b[0m, \u001b[32m'content'\u001b[0m: 'Generate the time\u001b[33m...\u001b[0m\n",
       "\u001b[1;36m194\u001b[0m  \u001b[1m{\u001b[0m\u001b[32m'role'\u001b[0m: \u001b[32m'user'\u001b[0m, \u001b[32m'content'\u001b[0m: 'Generate the time\u001b[33m...\u001b[0m\n",
       "\u001b[1;36m78\u001b[0m   \u001b[1m{\u001b[0m\u001b[32m'role'\u001b[0m: \u001b[32m'user'\u001b[0m, \u001b[32m'content'\u001b[0m: 'Generate the time\u001b[33m...\u001b[0m\n",
       "\u001b[1;36m169\u001b[0m  \u001b[1m{\u001b[0m\u001b[32m'role'\u001b[0m: \u001b[32m'assistant'\u001b[0m, \u001b[32m'content'\u001b[0m: 'Timestamps: \u001b[33m...\u001b[0m\n",
       "..                                                 \u001b[33m...\u001b[0m\n",
       "\u001b[1;36m56\u001b[0m   \u001b[1m{\u001b[0m\u001b[32m'role'\u001b[0m: \u001b[32m'user'\u001b[0m, \u001b[32m'content'\u001b[0m: 'Generate the time\u001b[33m...\u001b[0m\n",
       "\u001b[1;36m211\u001b[0m  \u001b[1m{\u001b[0m\u001b[32m'role'\u001b[0m: \u001b[32m'assistant'\u001b[0m, \u001b[32m'content'\u001b[0m: 'Timestamps: \u001b[33m...\u001b[0m\n",
       "\u001b[1;36m134\u001b[0m  \u001b[1m{\u001b[0m\u001b[32m'role'\u001b[0m: \u001b[32m'user'\u001b[0m, \u001b[32m'content'\u001b[0m: 'Generate the time\u001b[33m...\u001b[0m\n",
       "\u001b[1;36m139\u001b[0m  \u001b[1m{\u001b[0m\u001b[32m'role'\u001b[0m: \u001b[32m'assistant'\u001b[0m, \u001b[32m'content'\u001b[0m: 'Timestamps: \u001b[33m...\u001b[0m\n",
       "\u001b[1;36m207\u001b[0m  \u001b[1m{\u001b[0m\u001b[32m'role'\u001b[0m: \u001b[32m'assistant'\u001b[0m, \u001b[32m'content'\u001b[0m: 'Timestamps: \u001b[33m...\u001b[0m\n",
       "\n",
       "\u001b[1m[\u001b[0m\u001b[1;36m205\u001b[0m rows x \u001b[1;36m1\u001b[0m columns\u001b[1m]\u001b[0m\n"
      ]
     },
     "metadata": {},
     "output_type": "display_data"
    },
    {
     "data": {
      "text/html": [
       "<pre style=\"white-space:pre;overflow-x:auto;line-height:normal;font-family:Menlo,'DejaVu Sans Mono',consolas,'Courier New',monospace\">                                              messages\n",
       "<span style=\"color: #008080; text-decoration-color: #008080; font-weight: bold\">14</span>   <span style=\"font-weight: bold\">{</span><span style=\"color: #008000; text-decoration-color: #008000\">'role'</span>: <span style=\"color: #008000; text-decoration-color: #008000\">'user'</span>, <span style=\"color: #008000; text-decoration-color: #008000\">'content'</span>: 'Generate the time<span style=\"color: #808000; text-decoration-color: #808000\">...</span>\n",
       "<span style=\"color: #008080; text-decoration-color: #008080; font-weight: bold\">16</span>   <span style=\"font-weight: bold\">{</span><span style=\"color: #008000; text-decoration-color: #008000\">'role'</span>: <span style=\"color: #008000; text-decoration-color: #008000\">'user'</span>, <span style=\"color: #008000; text-decoration-color: #008000\">'content'</span>: 'Generate the time<span style=\"color: #808000; text-decoration-color: #808000\">...</span>\n",
       "<span style=\"color: #008080; text-decoration-color: #008080; font-weight: bold\">26</span>   <span style=\"font-weight: bold\">{</span><span style=\"color: #008000; text-decoration-color: #008000\">'role'</span>: <span style=\"color: #008000; text-decoration-color: #008000\">'user'</span>, <span style=\"color: #008000; text-decoration-color: #008000\">'content'</span>: 'Generate the time<span style=\"color: #808000; text-decoration-color: #808000\">...</span>\n",
       "<span style=\"color: #008080; text-decoration-color: #008080; font-weight: bold\">42</span>   <span style=\"font-weight: bold\">{</span><span style=\"color: #008000; text-decoration-color: #008000\">'role'</span>: <span style=\"color: #008000; text-decoration-color: #008000\">'user'</span>, <span style=\"color: #008000; text-decoration-color: #008000\">'content'</span>: 'Generate the time<span style=\"color: #808000; text-decoration-color: #808000\">...</span>\n",
       "<span style=\"color: #008080; text-decoration-color: #008080; font-weight: bold\">68</span>   <span style=\"font-weight: bold\">{</span><span style=\"color: #008000; text-decoration-color: #008000\">'role'</span>: <span style=\"color: #008000; text-decoration-color: #008000\">'user'</span>, <span style=\"color: #008000; text-decoration-color: #008000\">'content'</span>: 'Generate the time<span style=\"color: #808000; text-decoration-color: #808000\">...</span>\n",
       "<span style=\"color: #008080; text-decoration-color: #008080; font-weight: bold\">76</span>   <span style=\"font-weight: bold\">{</span><span style=\"color: #008000; text-decoration-color: #008000\">'role'</span>: <span style=\"color: #008000; text-decoration-color: #008000\">'user'</span>, <span style=\"color: #008000; text-decoration-color: #008000\">'content'</span>: 'Generate the time<span style=\"color: #808000; text-decoration-color: #808000\">...</span>\n",
       "<span style=\"color: #008080; text-decoration-color: #008080; font-weight: bold\">79</span>   <span style=\"font-weight: bold\">{</span><span style=\"color: #008000; text-decoration-color: #008000\">'role'</span>: <span style=\"color: #008000; text-decoration-color: #008000\">'assistant'</span>, <span style=\"color: #008000; text-decoration-color: #008000\">'content'</span>: 'Timestamps: <span style=\"color: #808000; text-decoration-color: #808000\">...</span>\n",
       "<span style=\"color: #008080; text-decoration-color: #008080; font-weight: bold\">89</span>   <span style=\"font-weight: bold\">{</span><span style=\"color: #008000; text-decoration-color: #008000\">'role'</span>: <span style=\"color: #008000; text-decoration-color: #008000\">'assistant'</span>, <span style=\"color: #008000; text-decoration-color: #008000\">'content'</span>: 'Timestamps: <span style=\"color: #808000; text-decoration-color: #808000\">...</span>\n",
       "<span style=\"color: #008080; text-decoration-color: #008080; font-weight: bold\">105</span>  <span style=\"font-weight: bold\">{</span><span style=\"color: #008000; text-decoration-color: #008000\">'role'</span>: <span style=\"color: #008000; text-decoration-color: #008000\">'assistant'</span>, <span style=\"color: #008000; text-decoration-color: #008000\">'content'</span>: 'Timestamps: <span style=\"color: #808000; text-decoration-color: #808000\">...</span>\n",
       "<span style=\"color: #008080; text-decoration-color: #008080; font-weight: bold\">183</span>  <span style=\"font-weight: bold\">{</span><span style=\"color: #008000; text-decoration-color: #008000\">'role'</span>: <span style=\"color: #008000; text-decoration-color: #008000\">'assistant'</span>, <span style=\"color: #008000; text-decoration-color: #008000\">'content'</span>: 'Timestamps: <span style=\"color: #808000; text-decoration-color: #808000\">...</span>\n",
       "<span style=\"color: #008080; text-decoration-color: #008080; font-weight: bold\">185</span>  <span style=\"font-weight: bold\">{</span><span style=\"color: #008000; text-decoration-color: #008000\">'role'</span>: <span style=\"color: #008000; text-decoration-color: #008000\">'assistant'</span>, <span style=\"color: #008000; text-decoration-color: #008000\">'content'</span>: 'Timestamps: <span style=\"color: #808000; text-decoration-color: #808000\">...</span>\n",
       "</pre>\n"
      ],
      "text/plain": [
       "                                              messages\n",
       "\u001b[1;36m14\u001b[0m   \u001b[1m{\u001b[0m\u001b[32m'role'\u001b[0m: \u001b[32m'user'\u001b[0m, \u001b[32m'content'\u001b[0m: 'Generate the time\u001b[33m...\u001b[0m\n",
       "\u001b[1;36m16\u001b[0m   \u001b[1m{\u001b[0m\u001b[32m'role'\u001b[0m: \u001b[32m'user'\u001b[0m, \u001b[32m'content'\u001b[0m: 'Generate the time\u001b[33m...\u001b[0m\n",
       "\u001b[1;36m26\u001b[0m   \u001b[1m{\u001b[0m\u001b[32m'role'\u001b[0m: \u001b[32m'user'\u001b[0m, \u001b[32m'content'\u001b[0m: 'Generate the time\u001b[33m...\u001b[0m\n",
       "\u001b[1;36m42\u001b[0m   \u001b[1m{\u001b[0m\u001b[32m'role'\u001b[0m: \u001b[32m'user'\u001b[0m, \u001b[32m'content'\u001b[0m: 'Generate the time\u001b[33m...\u001b[0m\n",
       "\u001b[1;36m68\u001b[0m   \u001b[1m{\u001b[0m\u001b[32m'role'\u001b[0m: \u001b[32m'user'\u001b[0m, \u001b[32m'content'\u001b[0m: 'Generate the time\u001b[33m...\u001b[0m\n",
       "\u001b[1;36m76\u001b[0m   \u001b[1m{\u001b[0m\u001b[32m'role'\u001b[0m: \u001b[32m'user'\u001b[0m, \u001b[32m'content'\u001b[0m: 'Generate the time\u001b[33m...\u001b[0m\n",
       "\u001b[1;36m79\u001b[0m   \u001b[1m{\u001b[0m\u001b[32m'role'\u001b[0m: \u001b[32m'assistant'\u001b[0m, \u001b[32m'content'\u001b[0m: 'Timestamps: \u001b[33m...\u001b[0m\n",
       "\u001b[1;36m89\u001b[0m   \u001b[1m{\u001b[0m\u001b[32m'role'\u001b[0m: \u001b[32m'assistant'\u001b[0m, \u001b[32m'content'\u001b[0m: 'Timestamps: \u001b[33m...\u001b[0m\n",
       "\u001b[1;36m105\u001b[0m  \u001b[1m{\u001b[0m\u001b[32m'role'\u001b[0m: \u001b[32m'assistant'\u001b[0m, \u001b[32m'content'\u001b[0m: 'Timestamps: \u001b[33m...\u001b[0m\n",
       "\u001b[1;36m183\u001b[0m  \u001b[1m{\u001b[0m\u001b[32m'role'\u001b[0m: \u001b[32m'assistant'\u001b[0m, \u001b[32m'content'\u001b[0m: 'Timestamps: \u001b[33m...\u001b[0m\n",
       "\u001b[1;36m185\u001b[0m  \u001b[1m{\u001b[0m\u001b[32m'role'\u001b[0m: \u001b[32m'assistant'\u001b[0m, \u001b[32m'content'\u001b[0m: 'Timestamps: \u001b[33m...\u001b[0m\n"
      ]
     },
     "metadata": {},
     "output_type": "display_data"
    }
   ],
   "source": [
    "import json\n",
    "from rich import print\n",
    "from mistralai.client import MistralClient\n",
    "#from mistralai.models.jobs import TrainingParameters\n",
    "#from mistralai.models.chat_completion import ChatMessage\n",
    "#from mistralai.models.jobs import WandbIntegration\n",
    "\n",
    "from dotenv import dotenv_values\n",
    "\n",
    "# Load the .env file as a dictionary\n",
    "config = dotenv_values(\"/Users/mandy/Desktop/NLP/Project/Key.env\")\n",
    "\n",
    "print(df_train)\n",
    "print(df_eval)"
   ]
  },
  {
   "cell_type": "code",
   "execution_count": 35,
   "metadata": {},
   "outputs": [
    {
     "name": "stdout",
     "output_type": "stream",
     "text": [
      "Collecting wandb\n",
      "  Downloading wandb-0.18.7-py3-none-macosx_10_13_x86_64.whl (15.8 MB)\n",
      "\u001b[2K     \u001b[90m━━━━━━━━━━━━━━━━━━━━━━━━━━━━━━━━━━━━━━━━\u001b[0m \u001b[32m15.8/15.8 MB\u001b[0m \u001b[31m18.8 MB/s\u001b[0m eta \u001b[36m0:00:00\u001b[0m00:01\u001b[0m00:01\u001b[0m\n",
      "\u001b[?25hCollecting gitpython!=3.1.29,>=1.0.0\n",
      "  Downloading GitPython-3.1.43-py3-none-any.whl (207 kB)\n",
      "\u001b[2K     \u001b[90m━━━━━━━━━━━━━━━━━━━━━━━━━━━━━━━━━━━━━━\u001b[0m \u001b[32m207.3/207.3 kB\u001b[0m \u001b[31m22.6 MB/s\u001b[0m eta \u001b[36m0:00:00\u001b[0m\n",
      "\u001b[?25hRequirement already satisfied: pyyaml in /Users/mandy/opt/anaconda3/lib/python3.9/site-packages (from wandb) (6.0)\n",
      "Requirement already satisfied: typing-extensions<5,>=4.4 in /Users/mandy/opt/anaconda3/lib/python3.9/site-packages (from wandb) (4.12.2)\n",
      "Collecting setproctitle\n",
      "  Downloading setproctitle-1.3.4-cp39-cp39-macosx_10_9_universal2.whl (16 kB)\n",
      "Requirement already satisfied: platformdirs in /Users/mandy/opt/anaconda3/lib/python3.9/site-packages (from wandb) (2.5.2)\n",
      "Collecting docker-pycreds>=0.4.0\n",
      "  Downloading docker_pycreds-0.4.0-py2.py3-none-any.whl (9.0 kB)\n",
      "Collecting protobuf!=4.21.0,!=5.28.0,<6,>=3.19.0\n",
      "  Downloading protobuf-5.29.0-cp38-abi3-macosx_10_9_universal2.whl (417 kB)\n",
      "\u001b[2K     \u001b[90m━━━━━━━━━━━━━━━━━━━━━━━━━━━━━━━━━━━━━━\u001b[0m \u001b[32m417.8/417.8 kB\u001b[0m \u001b[31m29.6 MB/s\u001b[0m eta \u001b[36m0:00:00\u001b[0m\n",
      "\u001b[?25hRequirement already satisfied: psutil>=5.0.0 in /Users/mandy/opt/anaconda3/lib/python3.9/site-packages (from wandb) (5.9.0)\n",
      "Requirement already satisfied: click!=8.0.0,>=7.1 in /Users/mandy/opt/anaconda3/lib/python3.9/site-packages (from wandb) (8.0.4)\n",
      "Requirement already satisfied: requests<3,>=2.0.0 in /Users/mandy/opt/anaconda3/lib/python3.9/site-packages (from wandb) (2.32.3)\n",
      "Requirement already satisfied: setuptools in /Users/mandy/opt/anaconda3/lib/python3.9/site-packages (from wandb) (63.4.1)\n",
      "Collecting sentry-sdk>=2.0.0\n",
      "  Downloading sentry_sdk-2.19.0-py2.py3-none-any.whl (322 kB)\n",
      "\u001b[2K     \u001b[90m━━━━━━━━━━━━━━━━━━━━━━━━━━━━━━━━━━━━━━\u001b[0m \u001b[32m322.2/322.2 kB\u001b[0m \u001b[31m17.5 MB/s\u001b[0m eta \u001b[36m0:00:00\u001b[0m\n",
      "\u001b[?25hRequirement already satisfied: six>=1.4.0 in /Users/mandy/opt/anaconda3/lib/python3.9/site-packages (from docker-pycreds>=0.4.0->wandb) (1.16.0)\n",
      "Collecting gitdb<5,>=4.0.1\n",
      "  Downloading gitdb-4.0.11-py3-none-any.whl (62 kB)\n",
      "\u001b[2K     \u001b[90m━━━━━━━━━━━━━━━━━━━━━━━━━━━━━━━━━━━━━━━━\u001b[0m \u001b[32m62.7/62.7 kB\u001b[0m \u001b[31m8.5 MB/s\u001b[0m eta \u001b[36m0:00:00\u001b[0m\n",
      "\u001b[?25hRequirement already satisfied: charset-normalizer<4,>=2 in /Users/mandy/opt/anaconda3/lib/python3.9/site-packages (from requests<3,>=2.0.0->wandb) (2.0.4)\n",
      "Requirement already satisfied: idna<4,>=2.5 in /Users/mandy/opt/anaconda3/lib/python3.9/site-packages (from requests<3,>=2.0.0->wandb) (3.3)\n",
      "Requirement already satisfied: urllib3<3,>=1.21.1 in /Users/mandy/opt/anaconda3/lib/python3.9/site-packages (from requests<3,>=2.0.0->wandb) (2.2.3)\n",
      "Requirement already satisfied: certifi>=2017.4.17 in /Users/mandy/opt/anaconda3/lib/python3.9/site-packages (from requests<3,>=2.0.0->wandb) (2022.9.24)\n",
      "Collecting smmap<6,>=3.0.1\n",
      "  Downloading smmap-5.0.1-py3-none-any.whl (24 kB)\n",
      "Installing collected packages: smmap, setproctitle, sentry-sdk, protobuf, docker-pycreds, gitdb, gitpython, wandb\n",
      "\u001b[31mERROR: pip's dependency resolver does not currently take into account all the packages that are installed. This behaviour is the source of the following dependency conflicts.\n",
      "grpc-google-iam-v1 0.12.6 requires googleapis-common-protos[grpc]<2.0.0dev,>=1.56.0, which is not installed.\n",
      "grpc-google-iam-v1 0.12.6 requires grpcio<2.0.0dev,>=1.44.0, which is not installed.\n",
      "google-cloud-spanner 3.27.1 requires google-api-core[grpc]!=2.0.*,!=2.1.*,!=2.10.*,!=2.2.*,!=2.3.*,!=2.4.*,!=2.5.*,!=2.6.*,!=2.7.*,!=2.8.*,!=2.9.*,<3.0.0dev,>=1.34.0, which is not installed.\n",
      "google-cloud-spanner 3.27.1 requires google-cloud-core<3.0dev,>=1.4.1, which is not installed.\n",
      "google-cloud-spanner 3.27.1 requires proto-plus<2.0.0dev,>=1.22.0, which is not installed.\n",
      "grpc-google-iam-v1 0.12.6 requires protobuf!=3.20.0,!=3.20.1,!=4.21.1,!=4.21.2,!=4.21.3,!=4.21.4,!=4.21.5,<5.0.0dev,>=3.19.5, but you have protobuf 5.29.0 which is incompatible.\n",
      "google-cloud-spanner 3.27.1 requires protobuf!=3.20.0,!=3.20.1,!=4.21.0,!=4.21.1,!=4.21.2,!=4.21.3,!=4.21.4,!=4.21.5,<5.0.0dev,>=3.19.5, but you have protobuf 5.29.0 which is incompatible.\u001b[0m\u001b[31m\n",
      "\u001b[0mSuccessfully installed docker-pycreds-0.4.0 gitdb-4.0.11 gitpython-3.1.43 protobuf-5.29.0 sentry-sdk-2.19.0 setproctitle-1.3.4 smmap-5.0.1 wandb-0.18.7\n",
      "Note: you may need to restart the kernel to use updated packages.\n"
     ]
    }
   ],
   "source": [
    "pip install wandb"
   ]
  },
  {
   "cell_type": "code",
   "execution_count": 49,
   "metadata": {},
   "outputs": [
    {
     "data": {
      "text/html": [
       "Finishing last run (ID:5ok7nle8) before initializing another..."
      ],
      "text/plain": [
       "<IPython.core.display.HTML object>"
      ]
     },
     "metadata": {},
     "output_type": "display_data"
    },
    {
     "data": {
      "text/html": [
       " View run <strong style=\"color:#cdcd00\">mistral-fine-tuning-laperformte</strong> at: <a href='https://wandb.ai/manideep-pmd-md-google/mistral-7b-finetuning/runs/5ok7nle8' target=\"_blank\">https://wandb.ai/manideep-pmd-md-google/mistral-7b-finetuning/runs/5ok7nle8</a><br/> View project at: <a href='https://wandb.ai/manideep-pmd-md-google/mistral-7b-finetuning' target=\"_blank\">https://wandb.ai/manideep-pmd-md-google/mistral-7b-finetuning</a><br/>Synced 5 W&B file(s), 0 media file(s), 0 artifact file(s) and 0 other file(s)"
      ],
      "text/plain": [
       "<IPython.core.display.HTML object>"
      ]
     },
     "metadata": {},
     "output_type": "display_data"
    },
    {
     "data": {
      "text/html": [
       "Find logs at: <code>./wandb/run-20241202_214203-5ok7nle8/logs</code>"
      ],
      "text/plain": [
       "<IPython.core.display.HTML object>"
      ]
     },
     "metadata": {},
     "output_type": "display_data"
    },
    {
     "data": {
      "text/html": [
       "Successfully finished last run (ID:5ok7nle8). Initializing new run:<br/>"
      ],
      "text/plain": [
       "<IPython.core.display.HTML object>"
      ]
     },
     "metadata": {},
     "output_type": "display_data"
    },
    {
     "data": {
      "text/html": [
       "Tracking run with wandb version 0.18.7"
      ],
      "text/plain": [
       "<IPython.core.display.HTML object>"
      ]
     },
     "metadata": {},
     "output_type": "display_data"
    },
    {
     "data": {
      "text/html": [
       "Run data is saved locally in <code>/Users/mandy/Desktop/NLP/Project/wandb/run-20241202_214219-g8aa5y3w</code>"
      ],
      "text/plain": [
       "<IPython.core.display.HTML object>"
      ]
     },
     "metadata": {},
     "output_type": "display_data"
    },
    {
     "data": {
      "text/html": [
       "Syncing run <strong><a href='https://wandb.ai/manideep-pmd-md-google/mistral-7b-finetuning/runs/g8aa5y3w' target=\"_blank\">mistral-fine-tuning-laperformte</a></strong> to <a href='https://wandb.ai/manideep-pmd-md-google/mistral-7b-finetuning' target=\"_blank\">Weights & Biases</a> (<a href='https://wandb.me/developer-guide' target=\"_blank\">docs</a>)<br/>"
      ],
      "text/plain": [
       "<IPython.core.display.HTML object>"
      ]
     },
     "metadata": {},
     "output_type": "display_data"
    },
    {
     "data": {
      "text/html": [
       " View project at <a href='https://wandb.ai/manideep-pmd-md-google/mistral-7b-finetuning' target=\"_blank\">https://wandb.ai/manideep-pmd-md-google/mistral-7b-finetuning</a>"
      ],
      "text/plain": [
       "<IPython.core.display.HTML object>"
      ]
     },
     "metadata": {},
     "output_type": "display_data"
    },
    {
     "data": {
      "text/html": [
       " View run at <a href='https://wandb.ai/manideep-pmd-md-google/mistral-7b-finetuning/runs/g8aa5y3w' target=\"_blank\">https://wandb.ai/manideep-pmd-md-google/mistral-7b-finetuning/runs/g8aa5y3w</a>"
      ],
      "text/plain": [
       "<IPython.core.display.HTML object>"
      ]
     },
     "metadata": {},
     "output_type": "display_data"
    },
    {
     "data": {
      "text/html": [
       "\n",
       "    <style>\n",
       "        .wandb-row {\n",
       "            display: flex;\n",
       "            flex-direction: row;\n",
       "            flex-wrap: wrap;\n",
       "            justify-content: flex-start;\n",
       "            width: 100%;\n",
       "        }\n",
       "        .wandb-col {\n",
       "            display: flex;\n",
       "            flex-direction: column;\n",
       "            flex-basis: 100%;\n",
       "            flex: 1;\n",
       "            padding: 10px;\n",
       "        }\n",
       "    </style>\n",
       "<div class=\"wandb-row\"><div class=\"wandb-col\"><h3>Run history:</h3><br/><table class=\"wandb\"><tr><td>acc</td><td>▁▄▂▅▆▆█▇</td></tr><tr><td>loss</td><td>▆█▅▄▃▂▂▁</td></tr></table><br/></div><div class=\"wandb-col\"><h3>Run summary:</h3><br/><table class=\"wandb\"><tr><td>acc</td><td>0.83718</td></tr><tr><td>loss</td><td>0.17526</td></tr></table><br/></div></div>"
      ],
      "text/plain": [
       "<IPython.core.display.HTML object>"
      ]
     },
     "metadata": {},
     "output_type": "display_data"
    },
    {
     "data": {
      "text/html": [
       " View run <strong style=\"color:#cdcd00\">mistral-fine-tuning-laperformte</strong> at: <a href='https://wandb.ai/manideep-pmd-md-google/mistral-7b-finetuning/runs/g8aa5y3w' target=\"_blank\">https://wandb.ai/manideep-pmd-md-google/mistral-7b-finetuning/runs/g8aa5y3w</a><br/> View project at: <a href='https://wandb.ai/manideep-pmd-md-google/mistral-7b-finetuning' target=\"_blank\">https://wandb.ai/manideep-pmd-md-google/mistral-7b-finetuning</a><br/>Synced 5 W&B file(s), 0 media file(s), 0 artifact file(s) and 0 other file(s)"
      ],
      "text/plain": [
       "<IPython.core.display.HTML object>"
      ]
     },
     "metadata": {},
     "output_type": "display_data"
    },
    {
     "data": {
      "text/html": [
       "Find logs at: <code>./wandb/run-20241202_214219-g8aa5y3w/logs</code>"
      ],
      "text/plain": [
       "<IPython.core.display.HTML object>"
      ]
     },
     "metadata": {},
     "output_type": "display_data"
    }
   ],
   "source": [
    "import wandb\n",
    "import random\n",
    "\n",
    "# Initialize W&B\n",
    "wandb.init(\n",
    "    project=\"mistral-7b-finetuning\",\n",
    "    name=\"mistral-fine-tuning-laperformte\",\n",
    "    config={\"learning_rate\": 1e-4, \"batch_size\": 16},\n",
    ")\n",
    "# simulate training\n",
    "epochs = 10\n",
    "offset = random.random() / 5\n",
    "for epoch in range(2, epochs):\n",
    "    acc = 1 - 2 ** -epoch - random.random() / epoch - offset\n",
    "    loss = 2 ** -epoch + random.random() / epoch + offset\n",
    "\n",
    "    # log metrics to wandb\n",
    "    wandb.log({\"acc\": acc, \"loss\": loss})\n",
    "\n",
    "# [optional] finish the wandb run, necessary in notebooks\n",
    "wandb.finish()\n"
   ]
  },
  {
   "cell_type": "code",
   "execution_count": 41,
   "metadata": {},
   "outputs": [
    {
     "data": {
      "text/html": [
       "<pre style=\"white-space:pre;overflow-x:auto;line-height:normal;font-family:Menlo,'DejaVu Sans Mono',consolas,'Courier New',monospace\">Data:\n",
       "</pre>\n"
      ],
      "text/plain": [
       "Data:\n"
      ]
     },
     "metadata": {},
     "output_type": "display_data"
    },
    {
     "data": {
      "text/html": [
       "<pre style=\"white-space:pre;overflow-x:auto;line-height:normal;font-family:Menlo,'DejaVu Sans Mono',consolas,'Courier New',monospace\"><span style=\"font-weight: bold\">{</span>\n",
       "    <span style=\"color: #008000; text-decoration-color: #008000\">\"id\"</span>: <span style=\"color: #008000; text-decoration-color: #008000\">\"6755e2a6-6c39-42fc-b22c-5ad5bd30bf43\"</span>,\n",
       "    <span style=\"color: #008000; text-decoration-color: #008000\">\"object\"</span>: <span style=\"color: #008000; text-decoration-color: #008000\">\"file\"</span>,\n",
       "    <span style=\"color: #008000; text-decoration-color: #008000\">\"bytes\"</span>: <span style=\"color: #008080; text-decoration-color: #008080; font-weight: bold\">1359118</span>,\n",
       "    <span style=\"color: #008000; text-decoration-color: #008000\">\"created_at\"</span>: <span style=\"color: #008080; text-decoration-color: #008080; font-weight: bold\">1733200145</span>,\n",
       "    <span style=\"color: #008000; text-decoration-color: #008000\">\"filename\"</span>: <span style=\"color: #008000; text-decoration-color: #008000\">\"YT_Chatpers_Train.jsonl\"</span>,\n",
       "    <span style=\"color: #008000; text-decoration-color: #008000\">\"purpose\"</span>: <span style=\"color: #008000; text-decoration-color: #008000\">\"fine-tune\"</span>,\n",
       "    <span style=\"color: #008000; text-decoration-color: #008000\">\"sample_type\"</span>: <span style=\"color: #008000; text-decoration-color: #008000\">\"instruct\"</span>,\n",
       "    <span style=\"color: #008000; text-decoration-color: #008000\">\"source\"</span>: <span style=\"color: #008000; text-decoration-color: #008000\">\"upload\"</span>,\n",
       "    <span style=\"color: #008000; text-decoration-color: #008000\">\"num_lines\"</span>: <span style=\"color: #008080; text-decoration-color: #008080; font-weight: bold\">97</span>\n",
       "<span style=\"font-weight: bold\">}</span>\n",
       "</pre>\n"
      ],
      "text/plain": [
       "\u001b[1m{\u001b[0m\n",
       "    \u001b[32m\"id\"\u001b[0m: \u001b[32m\"6755e2a6-6c39-42fc-b22c-5ad5bd30bf43\"\u001b[0m,\n",
       "    \u001b[32m\"object\"\u001b[0m: \u001b[32m\"file\"\u001b[0m,\n",
       "    \u001b[32m\"bytes\"\u001b[0m: \u001b[1;36m1359118\u001b[0m,\n",
       "    \u001b[32m\"created_at\"\u001b[0m: \u001b[1;36m1733200145\u001b[0m,\n",
       "    \u001b[32m\"filename\"\u001b[0m: \u001b[32m\"YT_Chatpers_Train.jsonl\"\u001b[0m,\n",
       "    \u001b[32m\"purpose\"\u001b[0m: \u001b[32m\"fine-tune\"\u001b[0m,\n",
       "    \u001b[32m\"sample_type\"\u001b[0m: \u001b[32m\"instruct\"\u001b[0m,\n",
       "    \u001b[32m\"source\"\u001b[0m: \u001b[32m\"upload\"\u001b[0m,\n",
       "    \u001b[32m\"num_lines\"\u001b[0m: \u001b[1;36m97\u001b[0m\n",
       "\u001b[1m}\u001b[0m\n"
      ]
     },
     "metadata": {},
     "output_type": "display_data"
    },
    {
     "data": {
      "text/html": [
       "<pre style=\"white-space:pre;overflow-x:auto;line-height:normal;font-family:Menlo,'DejaVu Sans Mono',consolas,'Courier New',monospace\"><span style=\"font-weight: bold\">{</span>\n",
       "    <span style=\"color: #008000; text-decoration-color: #008000\">\"id\"</span>: <span style=\"color: #008000; text-decoration-color: #008000\">\"f664662f-b674-4099-9f6d-1ac6b1d7b678\"</span>,\n",
       "    <span style=\"color: #008000; text-decoration-color: #008000\">\"object\"</span>: <span style=\"color: #008000; text-decoration-color: #008000\">\"file\"</span>,\n",
       "    <span style=\"color: #008000; text-decoration-color: #008000\">\"bytes\"</span>: <span style=\"color: #008080; text-decoration-color: #008080; font-weight: bold\">105419</span>,\n",
       "    <span style=\"color: #008000; text-decoration-color: #008000\">\"created_at\"</span>: <span style=\"color: #008080; text-decoration-color: #008080; font-weight: bold\">1733200145</span>,\n",
       "    <span style=\"color: #008000; text-decoration-color: #008000\">\"filename\"</span>: <span style=\"color: #008000; text-decoration-color: #008000\">\"YT_Chatpers_Eval.jsonl\"</span>,\n",
       "    <span style=\"color: #008000; text-decoration-color: #008000\">\"purpose\"</span>: <span style=\"color: #008000; text-decoration-color: #008000\">\"fine-tune\"</span>,\n",
       "    <span style=\"color: #008000; text-decoration-color: #008000\">\"sample_type\"</span>: <span style=\"color: #008000; text-decoration-color: #008000\">\"instruct\"</span>,\n",
       "    <span style=\"color: #008000; text-decoration-color: #008000\">\"source\"</span>: <span style=\"color: #008000; text-decoration-color: #008000\">\"upload\"</span>,\n",
       "    <span style=\"color: #008000; text-decoration-color: #008000\">\"num_lines\"</span>: <span style=\"color: #008080; text-decoration-color: #008080; font-weight: bold\">9</span>\n",
       "<span style=\"font-weight: bold\">}</span>\n",
       "</pre>\n"
      ],
      "text/plain": [
       "\u001b[1m{\u001b[0m\n",
       "    \u001b[32m\"id\"\u001b[0m: \u001b[32m\"f664662f-b674-4099-9f6d-1ac6b1d7b678\"\u001b[0m,\n",
       "    \u001b[32m\"object\"\u001b[0m: \u001b[32m\"file\"\u001b[0m,\n",
       "    \u001b[32m\"bytes\"\u001b[0m: \u001b[1;36m105419\u001b[0m,\n",
       "    \u001b[32m\"created_at\"\u001b[0m: \u001b[1;36m1733200145\u001b[0m,\n",
       "    \u001b[32m\"filename\"\u001b[0m: \u001b[32m\"YT_Chatpers_Eval.jsonl\"\u001b[0m,\n",
       "    \u001b[32m\"purpose\"\u001b[0m: \u001b[32m\"fine-tune\"\u001b[0m,\n",
       "    \u001b[32m\"sample_type\"\u001b[0m: \u001b[32m\"instruct\"\u001b[0m,\n",
       "    \u001b[32m\"source\"\u001b[0m: \u001b[32m\"upload\"\u001b[0m,\n",
       "    \u001b[32m\"num_lines\"\u001b[0m: \u001b[1;36m9\u001b[0m\n",
       "\u001b[1m}\u001b[0m\n"
      ]
     },
     "metadata": {},
     "output_type": "display_data"
    }
   ],
   "source": [
    "from mistralai import Mistral\n",
    "import os\n",
    "\n",
    "\n",
    "\n",
    "api_key = config[\"MISTRAL_API_KEY\"]\n",
    "\n",
    "api_key = \"G3o2vuEIFiAaAGem5mBFi9VpaNJnOmJV\"\n",
    "\n",
    "client = Mistral(api_key=api_key)\n",
    "\n",
    "def pprint(obj):\n",
    "    print(json.dumps (obj.dict(), indent=4))\n",
    "\n",
    "ultrachat_chunk_train = client.files.upload(file={\n",
    "    \"file_name\": \"YT_Chatpers_Train.jsonl\",\n",
    "    \"content\": open(\"YT_Chatpers_Train.jsonl\", \"rb\"),\n",
    "})\n",
    "\n",
    "\n",
    "ultrachat_chunk_eval = client.files.upload(file={\n",
    "    \"file_name\": \"YT_Chatpers_Eval.jsonl\",\n",
    "    \"content\": open(\"YT_Chapters_Eval.jsonl\", \"rb\"),\n",
    "})\n",
    "\n",
    "print(\"Data:\")\n",
    "pprint(ultrachat_chunk_train)\n",
    "pprint(ultrachat_chunk_eval)"
   ]
  },
  {
   "cell_type": "code",
   "execution_count": 43,
   "metadata": {},
   "outputs": [
    {
     "data": {
      "text/html": [
       "<pre style=\"white-space:pre;overflow-x:auto;line-height:normal;font-family:Menlo,'DejaVu Sans Mono',consolas,'Courier New',monospace\"><span style=\"font-weight: bold\">{</span>\n",
       "    <span style=\"color: #008000; text-decoration-color: #008000\">\"id\"</span>: <span style=\"color: #008000; text-decoration-color: #008000\">\"69ca892f-ce58-44eb-a093-c939bccfe84b\"</span>,\n",
       "    <span style=\"color: #008000; text-decoration-color: #008000\">\"auto_start\"</span>: false,\n",
       "    <span style=\"color: #008000; text-decoration-color: #008000\">\"hyperparameters\"</span>: <span style=\"font-weight: bold\">{</span>\n",
       "        <span style=\"color: #008000; text-decoration-color: #008000\">\"training_steps\"</span>: <span style=\"color: #008080; text-decoration-color: #008080; font-weight: bold\">10</span>,\n",
       "        <span style=\"color: #008000; text-decoration-color: #008000\">\"learning_rate\"</span>: <span style=\"color: #008080; text-decoration-color: #008080; font-weight: bold\">0.0001</span>,\n",
       "        <span style=\"color: #008000; text-decoration-color: #008000\">\"weight_decay\"</span>: <span style=\"color: #008080; text-decoration-color: #008080; font-weight: bold\">0.1</span>,\n",
       "        <span style=\"color: #008000; text-decoration-color: #008000\">\"warmup_fraction\"</span>: <span style=\"color: #008080; text-decoration-color: #008080; font-weight: bold\">0.05</span>,\n",
       "        <span style=\"color: #008000; text-decoration-color: #008000\">\"epochs\"</span>: null,\n",
       "        <span style=\"color: #008000; text-decoration-color: #008000\">\"fim_ratio\"</span>: null,\n",
       "        <span style=\"color: #008000; text-decoration-color: #008000\">\"seq_len\"</span>: <span style=\"color: #008080; text-decoration-color: #008080; font-weight: bold\">32768</span>\n",
       "    <span style=\"font-weight: bold\">}</span>,\n",
       "    <span style=\"color: #008000; text-decoration-color: #008000\">\"model\"</span>: <span style=\"color: #008000; text-decoration-color: #008000\">\"open-mistral-7b\"</span>,\n",
       "    <span style=\"color: #008000; text-decoration-color: #008000\">\"status\"</span>: <span style=\"color: #008000; text-decoration-color: #008000\">\"QUEUED\"</span>,\n",
       "    <span style=\"color: #008000; text-decoration-color: #008000\">\"job_type\"</span>: <span style=\"color: #008000; text-decoration-color: #008000\">\"FT\"</span>,\n",
       "    <span style=\"color: #008000; text-decoration-color: #008000\">\"created_at\"</span>: <span style=\"color: #008080; text-decoration-color: #008080; font-weight: bold\">1733200248</span>,\n",
       "    <span style=\"color: #008000; text-decoration-color: #008000\">\"modified_at\"</span>: <span style=\"color: #008080; text-decoration-color: #008080; font-weight: bold\">1733200248</span>,\n",
       "    <span style=\"color: #008000; text-decoration-color: #008000\">\"training_files\"</span>: <span style=\"font-weight: bold\">[</span>\n",
       "        <span style=\"color: #008000; text-decoration-color: #008000\">\"6755e2a6-6c39-42fc-b22c-5ad5bd30bf43\"</span>\n",
       "    <span style=\"font-weight: bold\">]</span>,\n",
       "    <span style=\"color: #008000; text-decoration-color: #008000\">\"validation_files\"</span>: <span style=\"font-weight: bold\">[</span>\n",
       "        <span style=\"color: #008000; text-decoration-color: #008000\">\"f664662f-b674-4099-9f6d-1ac6b1d7b678\"</span>\n",
       "    <span style=\"font-weight: bold\">]</span>,\n",
       "    <span style=\"color: #008000; text-decoration-color: #008000\">\"fine_tuned_model\"</span>: null,\n",
       "    <span style=\"color: #008000; text-decoration-color: #008000\">\"suffix\"</span>: null,\n",
       "    <span style=\"color: #008000; text-decoration-color: #008000\">\"integrations\"</span>: <span style=\"font-weight: bold\">[]</span>,\n",
       "    <span style=\"color: #008000; text-decoration-color: #008000\">\"trained_tokens\"</span>: null,\n",
       "    <span style=\"color: #008000; text-decoration-color: #008000\">\"repositories\"</span>: <span style=\"font-weight: bold\">[]</span>,\n",
       "    <span style=\"color: #008000; text-decoration-color: #008000\">\"metadata\"</span>: <span style=\"font-weight: bold\">{</span>\n",
       "        <span style=\"color: #008000; text-decoration-color: #008000\">\"expected_duration_seconds\"</span>: null,\n",
       "        <span style=\"color: #008000; text-decoration-color: #008000\">\"cost\"</span>: <span style=\"color: #008080; text-decoration-color: #008080; font-weight: bold\">0.0</span>,\n",
       "        <span style=\"color: #008000; text-decoration-color: #008000\">\"cost_currency\"</span>: null,\n",
       "        <span style=\"color: #008000; text-decoration-color: #008000\">\"train_tokens_per_step\"</span>: null,\n",
       "        <span style=\"color: #008000; text-decoration-color: #008000\">\"train_tokens\"</span>: null,\n",
       "        <span style=\"color: #008000; text-decoration-color: #008000\">\"data_tokens\"</span>: null,\n",
       "        <span style=\"color: #008000; text-decoration-color: #008000\">\"estimated_start_time\"</span>: null\n",
       "    <span style=\"font-weight: bold\">}</span>\n",
       "<span style=\"font-weight: bold\">}</span>\n",
       "</pre>\n"
      ],
      "text/plain": [
       "\u001b[1m{\u001b[0m\n",
       "    \u001b[32m\"id\"\u001b[0m: \u001b[32m\"69ca892f-ce58-44eb-a093-c939bccfe84b\"\u001b[0m,\n",
       "    \u001b[32m\"auto_start\"\u001b[0m: false,\n",
       "    \u001b[32m\"hyperparameters\"\u001b[0m: \u001b[1m{\u001b[0m\n",
       "        \u001b[32m\"training_steps\"\u001b[0m: \u001b[1;36m10\u001b[0m,\n",
       "        \u001b[32m\"learning_rate\"\u001b[0m: \u001b[1;36m0.0001\u001b[0m,\n",
       "        \u001b[32m\"weight_decay\"\u001b[0m: \u001b[1;36m0.1\u001b[0m,\n",
       "        \u001b[32m\"warmup_fraction\"\u001b[0m: \u001b[1;36m0.05\u001b[0m,\n",
       "        \u001b[32m\"epochs\"\u001b[0m: null,\n",
       "        \u001b[32m\"fim_ratio\"\u001b[0m: null,\n",
       "        \u001b[32m\"seq_len\"\u001b[0m: \u001b[1;36m32768\u001b[0m\n",
       "    \u001b[1m}\u001b[0m,\n",
       "    \u001b[32m\"model\"\u001b[0m: \u001b[32m\"open-mistral-7b\"\u001b[0m,\n",
       "    \u001b[32m\"status\"\u001b[0m: \u001b[32m\"QUEUED\"\u001b[0m,\n",
       "    \u001b[32m\"job_type\"\u001b[0m: \u001b[32m\"FT\"\u001b[0m,\n",
       "    \u001b[32m\"created_at\"\u001b[0m: \u001b[1;36m1733200248\u001b[0m,\n",
       "    \u001b[32m\"modified_at\"\u001b[0m: \u001b[1;36m1733200248\u001b[0m,\n",
       "    \u001b[32m\"training_files\"\u001b[0m: \u001b[1m[\u001b[0m\n",
       "        \u001b[32m\"6755e2a6-6c39-42fc-b22c-5ad5bd30bf43\"\u001b[0m\n",
       "    \u001b[1m]\u001b[0m,\n",
       "    \u001b[32m\"validation_files\"\u001b[0m: \u001b[1m[\u001b[0m\n",
       "        \u001b[32m\"f664662f-b674-4099-9f6d-1ac6b1d7b678\"\u001b[0m\n",
       "    \u001b[1m]\u001b[0m,\n",
       "    \u001b[32m\"fine_tuned_model\"\u001b[0m: null,\n",
       "    \u001b[32m\"suffix\"\u001b[0m: null,\n",
       "    \u001b[32m\"integrations\"\u001b[0m: \u001b[1m[\u001b[0m\u001b[1m]\u001b[0m,\n",
       "    \u001b[32m\"trained_tokens\"\u001b[0m: null,\n",
       "    \u001b[32m\"repositories\"\u001b[0m: \u001b[1m[\u001b[0m\u001b[1m]\u001b[0m,\n",
       "    \u001b[32m\"metadata\"\u001b[0m: \u001b[1m{\u001b[0m\n",
       "        \u001b[32m\"expected_duration_seconds\"\u001b[0m: null,\n",
       "        \u001b[32m\"cost\"\u001b[0m: \u001b[1;36m0.0\u001b[0m,\n",
       "        \u001b[32m\"cost_currency\"\u001b[0m: null,\n",
       "        \u001b[32m\"train_tokens_per_step\"\u001b[0m: null,\n",
       "        \u001b[32m\"train_tokens\"\u001b[0m: null,\n",
       "        \u001b[32m\"data_tokens\"\u001b[0m: null,\n",
       "        \u001b[32m\"estimated_start_time\"\u001b[0m: null\n",
       "    \u001b[1m}\u001b[0m\n",
       "\u001b[1m}\u001b[0m\n"
      ]
     },
     "metadata": {},
     "output_type": "display_data"
    },
    {
     "ename": "SDKError",
     "evalue": "API error occurred: Status 400\n{\"detail\": \"Job has status QUEUED, cannot start unless job has status VALIDATED.\"}",
     "output_type": "error",
     "traceback": [
      "\u001b[0;31m---------------------------------------------------------------------------\u001b[0m",
      "\u001b[0;31mSDKError\u001b[0m                                  Traceback (most recent call last)",
      "\u001b[0;32m/var/folders/pk/vh_75fc94ln_vv7v0lnfl5tr0000gn/T/ipykernel_70316/3356654226.py\u001b[0m in \u001b[0;36m<module>\u001b[0;34m\u001b[0m\n\u001b[1;32m     11\u001b[0m \u001b[0mpprint\u001b[0m\u001b[0;34m(\u001b[0m\u001b[0mcreated_jobs\u001b[0m\u001b[0;34m)\u001b[0m\u001b[0;34m\u001b[0m\u001b[0;34m\u001b[0m\u001b[0m\n\u001b[1;32m     12\u001b[0m \u001b[0;31m# start a fine-tuning job\u001b[0m\u001b[0;34m\u001b[0m\u001b[0;34m\u001b[0m\u001b[0m\n\u001b[0;32m---> 13\u001b[0;31m \u001b[0mclient\u001b[0m\u001b[0;34m.\u001b[0m\u001b[0mfine_tuning\u001b[0m\u001b[0;34m.\u001b[0m\u001b[0mjobs\u001b[0m\u001b[0;34m.\u001b[0m\u001b[0mstart\u001b[0m\u001b[0;34m(\u001b[0m\u001b[0mjob_id\u001b[0m \u001b[0;34m=\u001b[0m \u001b[0mcreated_jobs\u001b[0m\u001b[0;34m.\u001b[0m\u001b[0mid\u001b[0m\u001b[0;34m)\u001b[0m\u001b[0;34m\u001b[0m\u001b[0;34m\u001b[0m\u001b[0m\n\u001b[0m\u001b[1;32m     14\u001b[0m \u001b[0;34m\u001b[0m\u001b[0m\n",
      "\u001b[0;32m~/opt/anaconda3/lib/python3.9/site-packages/mistralai/jobs.py\u001b[0m in \u001b[0;36mstart\u001b[0;34m(self, job_id, retries, server_url, timeout_ms)\u001b[0m\n\u001b[1;32m    878\u001b[0m         \u001b[0;32mif\u001b[0m \u001b[0mutils\u001b[0m\u001b[0;34m.\u001b[0m\u001b[0mmatch_response\u001b[0m\u001b[0;34m(\u001b[0m\u001b[0mhttp_res\u001b[0m\u001b[0;34m,\u001b[0m \u001b[0;34m[\u001b[0m\u001b[0;34m\"4XX\"\u001b[0m\u001b[0;34m,\u001b[0m \u001b[0;34m\"5XX\"\u001b[0m\u001b[0;34m]\u001b[0m\u001b[0;34m,\u001b[0m \u001b[0;34m\"*\"\u001b[0m\u001b[0;34m)\u001b[0m\u001b[0;34m:\u001b[0m\u001b[0;34m\u001b[0m\u001b[0;34m\u001b[0m\u001b[0m\n\u001b[1;32m    879\u001b[0m             \u001b[0mhttp_res_text\u001b[0m \u001b[0;34m=\u001b[0m \u001b[0mutils\u001b[0m\u001b[0;34m.\u001b[0m\u001b[0mstream_to_text\u001b[0m\u001b[0;34m(\u001b[0m\u001b[0mhttp_res\u001b[0m\u001b[0;34m)\u001b[0m\u001b[0;34m\u001b[0m\u001b[0;34m\u001b[0m\u001b[0m\n\u001b[0;32m--> 880\u001b[0;31m             raise models.SDKError(\n\u001b[0m\u001b[1;32m    881\u001b[0m                 \u001b[0;34m\"API error occurred\"\u001b[0m\u001b[0;34m,\u001b[0m \u001b[0mhttp_res\u001b[0m\u001b[0;34m.\u001b[0m\u001b[0mstatus_code\u001b[0m\u001b[0;34m,\u001b[0m \u001b[0mhttp_res_text\u001b[0m\u001b[0;34m,\u001b[0m \u001b[0mhttp_res\u001b[0m\u001b[0;34m\u001b[0m\u001b[0;34m\u001b[0m\u001b[0m\n\u001b[1;32m    882\u001b[0m             )\n",
      "\u001b[0;31mSDKError\u001b[0m: API error occurred: Status 400\n{\"detail\": \"Job has status QUEUED, cannot start unless job has status VALIDATED.\"}"
     ]
    }
   ],
   "source": [
    "created_jobs = client.fine_tuning.jobs.create(\n",
    "    model=\"open-mistral-7b\", \n",
    "    training_files=[{\"file_id\": ultrachat_chunk_train.id, \"weight\": 1}],\n",
    "    validation_files=[ultrachat_chunk_eval.id], \n",
    "    hyperparameters={\n",
    "        \"training_steps\": 10,\n",
    "        \"learning_rate\":0.0001\n",
    "    },\n",
    "    auto_start=False)\n",
    "\n",
    "pprint(created_jobs)\n",
    "\n",
    "# start a fine-tuning job\n",
    "client.fine_tuning.jobs.start(job_id = created_jobs.id)\n",
    "\n"
   ]
  },
  {
   "cell_type": "code",
   "execution_count": 47,
   "metadata": {},
   "outputs": [
    {
     "data": {
      "text/html": [
       "<pre style=\"white-space:pre;overflow-x:auto;line-height:normal;font-family:Menlo,'DejaVu Sans Mono',consolas,'Courier New',monospace\">\n",
       "Checking Job Status:\n",
       "</pre>\n"
      ],
      "text/plain": [
       "\n",
       "Checking Job Status:\n"
      ]
     },
     "metadata": {},
     "output_type": "display_data"
    }
   ],
   "source": [
    "# Retrieve a jobs\n",
    "print(\"\\nChecking Job Status:\")\n",
    "retrieved_job = client.fine_tuning.jobs.get(job_id = created_jobs.id)\n",
    "\n",
    "while retrieved_job.status in [\"RUNNING\", \"QUEUED\"]:\n",
    "    retrieved_job = client.jobs. retrieve (created_jobs.id)\n",
    "    pprint (retrieved_job)\n",
    "    print (\"Job is waiting\")\n",
    "    time.sleep(10)\n"
   ]
  },
  {
   "cell_type": "code",
   "execution_count": 33,
   "metadata": {},
   "outputs": [
    {
     "ename": "SDKError",
     "evalue": "API error occurred: Status 400\n{\"object\":\"error\",\"message\":\"Invalid model: None\",\"type\":\"invalid_model\",\"param\":null,\"code\":\"1500\"}",
     "output_type": "error",
     "traceback": [
      "\u001b[0;31m---------------------------------------------------------------------------\u001b[0m",
      "\u001b[0;31mSDKError\u001b[0m                                  Traceback (most recent call last)",
      "\u001b[0;32m/var/folders/pk/vh_75fc94ln_vv7v0lnfl5tr0000gn/T/ipykernel_70316/2945697748.py\u001b[0m in \u001b[0;36m<module>\u001b[0;34m\u001b[0m\n\u001b[0;32m----> 1\u001b[0;31m chat_response = client.chat.complete(\n\u001b[0m\u001b[1;32m      2\u001b[0m     \u001b[0mmodel\u001b[0m \u001b[0;34m=\u001b[0m \u001b[0mretrieved_jobs\u001b[0m\u001b[0;34m.\u001b[0m\u001b[0mfine_tuned_model\u001b[0m\u001b[0;34m,\u001b[0m\u001b[0;34m\u001b[0m\u001b[0;34m\u001b[0m\u001b[0m\n\u001b[1;32m      3\u001b[0m     \u001b[0mmessages\u001b[0m \u001b[0;34m=\u001b[0m \u001b[0;34m[\u001b[0m\u001b[0;34m{\u001b[0m\u001b[0;34m\"role\"\u001b[0m\u001b[0;34m:\u001b[0m\u001b[0;34m'user'\u001b[0m\u001b[0;34m,\u001b[0m \u001b[0;34m\"content\"\u001b[0m\u001b[0;34m:\u001b[0m\u001b[0;34m'Generate the timestamps by following these rules: 1) I need only titles and timestamps 2)Timestamps should be on the left before the title 3)Convert the timestamps to minutes, in transcripts they are in seconds (Example: 341.28 seconds = 5:41 (5 minutes and 41 seconds), only chapter them into 10 or fewer chapters(Does have to be 10, if it lasts less than 10 minutes long, generate less than 10 chapters) Transcripts:7.67 - It’s 5 p.m. and you’ve just realized  that report you’ve been putting off 12.759 - is due tomorrow. 14.719 - It’s time to buckle down,  open your computer... 17.597 - and check your phone. 20.016 - Maybe catch up on your favorite YouTube channel? 22.977 - Actually, you should probably  make dinner first. 25.521 - You usually like cooking, 27.148 - though it’s hard to enjoy with this work hanging over your head, 30.568 - and oh— it’s actually pretty late! 33.863 - Maybe you should just try again in the morning? 36.866 - This is the cycle of procrastination, and I promise you, we have all been there. 44.082 - But why do we keep procrastinating  even when we know it’s bad for us? 49.962 - To be clear, putting something off isn’t always procrastinating. 54.884 - Responsible time management requires deciding which tasks are important 59.388 - and which ones can wait. 61.057 - Procrastination is when we avoid a task  we said we would do, for no good reason, 66.729 - despite expecting our behavior  to bring negative consequences. 70.65 - Obviously, it’s irrational to do something you expect to harm you. 75.238 - But ironically, procrastination is the  result of our bodies trying to protect us, 81.869 - specifically by avoiding a task  we see as threatening. 86.999 - When you realize you need to write that report, 89.585 - your brain responds like it would to any incoming threat. 93.798 - Your amygdala, a set of neurons  involved in emotional processing 97.885 - and threat identification, 99.637 - releases hormones including adrenaline that kick off a fear response. 105.309 - This stress-induced panic can overpower the impulses from your prefrontal cortex, 110.773 - which typically help you think  long term and regulate your emotions. 115.069 - And it’s in the midst of this fight, flight, or freeze response 119.198 - that you decide to handle the threat 121.117 - by avoiding it in favor of some less stressful task. 125.329 - This response might seem extreme— 128.124 - after all, it’s just a deadline, not a bear attack. 131.335 - But we’re most likely to procrastinate tasks that evoke negative feelings, 136.257 - such as dread, incompetence, and insecurity. 140.136 - Studies of procrastinating university students have found participants 144.473 - were more likely to put off tasks they perceived as stressful or challenging. 149.478 - And the perception of how difficult the task is 152.356 - increases while you’re putting it off. 155.776 - In one experiment, students were given reminders to study throughout the day. 161.115 - While they were studying, most reported that it wasn’t so bad. 164.785 - But when they were procrastinating, 166.787 - they consistently rated the idea of studying as very stressful, 171.918 - making it difficult to get started. 175.004 - Because procrastination is motivated by our negative feelings, 178.799 - some individuals are more susceptible to it than others. 182.762 - People who have difficulty regulating their emotions 185.473 - and those who struggle  with low self-esteem 188.017 - are much more likely to procrastinate, 190.686 - regardless of how good they are at time management. 194.148 - However, its a common misconception that all procrastinators are lazy. 200.529 - In the body and brain, laziness is marked by no energy and general apathy. 206.786 - When you’re feeling lazy, you’re more likely to sit around doing nothing 210.456 - than distract yourself  with unimportant tasks. 213.876 - In fact, many people procrastinate because they care too much. 219.298 - Procrastinators often report a high fear of failure, 223.052 - putting things off because they’re afraid their work 225.846 - won’t live up to their high standards. 228.808 - Whatever the reason for procrastination,  the results are often the same. 233.813 - Frequent procrastinators are likely  to suffer from anxiety and depression, 238.484 - ongoing feelings of shame, 240.319 - higher stress levels and physical ailments associated with high stress. 245.866 - Worst of all, while procrastination hurts us in the long run, 249.787 - it does temporarily reduce our stress level, 253.457 - reinforcing it as a bodily response for coping with stressful tasks. 258.963 - So, how can we break the cycle of procrastination? 263.843 - Traditionally, people thought  procrastinators needed to cultivate 267.513 - discipline and practice  strict time management. 271.183 - But today, many researchers feel the exact opposite. 275.479 - Being too hard on yourself can layer additional bad emotions onto a task, 280.192 - making the threat even more intense. 283.404 - To short-circuit this stress response, 285.698 - we need to address and reduce these negative emotions. 290.619 - Some simple strategies include breaking a task into smaller elements 295.249 - or journaling about why its stressing you out 297.835 - and addressing those underlying concerns. 301.464 - Try removing nearby distractions that make it easy to impulsively procrastinate. 307.136 - And more than anything, it helps to cultivate an attitude of self-compassion, 312.099 - forgiving yourself, and making a plan to do better next time. 317.188 - Because a culture that perpetuates this cycle of stress and procrastination 322.151 - hurts all of us in the long term.'\u001b[0m\u001b[0;34m}\u001b[0m\u001b[0;34m]\u001b[0m\u001b[0;34m\u001b[0m\u001b[0;34m\u001b[0m\u001b[0m\n\u001b[1;32m      4\u001b[0m )\n",
      "\u001b[0;32m~/opt/anaconda3/lib/python3.9/site-packages/mistralai/chat.py\u001b[0m in \u001b[0;36mcomplete\u001b[0;34m(self, model, messages, temperature, top_p, max_tokens, stream, stop, random_seed, response_format, tools, tool_choice, presence_penalty, frequency_penalty, n, safe_prompt, retries, server_url, timeout_ms)\u001b[0m\n\u001b[1;32m    143\u001b[0m         \u001b[0;32mif\u001b[0m \u001b[0mutils\u001b[0m\u001b[0;34m.\u001b[0m\u001b[0mmatch_response\u001b[0m\u001b[0;34m(\u001b[0m\u001b[0mhttp_res\u001b[0m\u001b[0;34m,\u001b[0m \u001b[0;34m[\u001b[0m\u001b[0;34m\"4XX\"\u001b[0m\u001b[0;34m,\u001b[0m \u001b[0;34m\"5XX\"\u001b[0m\u001b[0;34m]\u001b[0m\u001b[0;34m,\u001b[0m \u001b[0;34m\"*\"\u001b[0m\u001b[0;34m)\u001b[0m\u001b[0;34m:\u001b[0m\u001b[0;34m\u001b[0m\u001b[0;34m\u001b[0m\u001b[0m\n\u001b[1;32m    144\u001b[0m             \u001b[0mhttp_res_text\u001b[0m \u001b[0;34m=\u001b[0m \u001b[0mutils\u001b[0m\u001b[0;34m.\u001b[0m\u001b[0mstream_to_text\u001b[0m\u001b[0;34m(\u001b[0m\u001b[0mhttp_res\u001b[0m\u001b[0;34m)\u001b[0m\u001b[0;34m\u001b[0m\u001b[0;34m\u001b[0m\u001b[0m\n\u001b[0;32m--> 145\u001b[0;31m             raise models.SDKError(\n\u001b[0m\u001b[1;32m    146\u001b[0m                 \u001b[0;34m\"API error occurred\"\u001b[0m\u001b[0;34m,\u001b[0m \u001b[0mhttp_res\u001b[0m\u001b[0;34m.\u001b[0m\u001b[0mstatus_code\u001b[0m\u001b[0;34m,\u001b[0m \u001b[0mhttp_res_text\u001b[0m\u001b[0;34m,\u001b[0m \u001b[0mhttp_res\u001b[0m\u001b[0;34m\u001b[0m\u001b[0;34m\u001b[0m\u001b[0m\n\u001b[1;32m    147\u001b[0m             )\n",
      "\u001b[0;31mSDKError\u001b[0m: API error occurred: Status 400\n{\"object\":\"error\",\"message\":\"Invalid model: None\",\"type\":\"invalid_model\",\"param\":null,\"code\":\"1500\"}"
     ]
    }
   ],
   "source": [
    "chat_response = client.chat.complete(\n",
    "    model = retrieved_jobs.fine_tuned_model,\n",
    "    messages = [{\"role\":'user', \"content\":'Generate the timestamps by following these rules: 1) I need only titles and timestamps 2)Timestamps should be on the left before the title 3)Convert the timestamps to minutes, in transcripts they are in seconds (Example: 341.28 seconds = 5:41 (5 minutes and 41 seconds), only chapter them into 10 or fewer chapters(Does have to be 10, if it lasts less than 10 minutes long, generate less than 10 chapters) Transcripts:7.67 - It’s 5 p.m. and you’ve just realized  that report you’ve been putting off 12.759 - is due tomorrow. 14.719 - It’s time to buckle down,  open your computer... 17.597 - and check your phone. 20.016 - Maybe catch up on your favorite YouTube channel? 22.977 - Actually, you should probably  make dinner first. 25.521 - You usually like cooking, 27.148 - though it’s hard to enjoy with this work hanging over your head, 30.568 - and oh— it’s actually pretty late! 33.863 - Maybe you should just try again in the morning? 36.866 - This is the cycle of procrastination, and I promise you, we have all been there. 44.082 - But why do we keep procrastinating  even when we know it’s bad for us? 49.962 - To be clear, putting something off isn’t always procrastinating. 54.884 - Responsible time management requires deciding which tasks are important 59.388 - and which ones can wait. 61.057 - Procrastination is when we avoid a task  we said we would do, for no good reason, 66.729 - despite expecting our behavior  to bring negative consequences. 70.65 - Obviously, it’s irrational to do something you expect to harm you. 75.238 - But ironically, procrastination is the  result of our bodies trying to protect us, 81.869 - specifically by avoiding a task  we see as threatening. 86.999 - When you realize you need to write that report, 89.585 - your brain responds like it would to any incoming threat. 93.798 - Your amygdala, a set of neurons  involved in emotional processing 97.885 - and threat identification, 99.637 - releases hormones including adrenaline that kick off a fear response. 105.309 - This stress-induced panic can overpower the impulses from your prefrontal cortex, 110.773 - which typically help you think  long term and regulate your emotions. 115.069 - And it’s in the midst of this fight, flight, or freeze response 119.198 - that you decide to handle the threat 121.117 - by avoiding it in favor of some less stressful task. 125.329 - This response might seem extreme— 128.124 - after all, it’s just a deadline, not a bear attack. 131.335 - But we’re most likely to procrastinate tasks that evoke negative feelings, 136.257 - such as dread, incompetence, and insecurity. 140.136 - Studies of procrastinating university students have found participants 144.473 - were more likely to put off tasks they perceived as stressful or challenging. 149.478 - And the perception of how difficult the task is 152.356 - increases while you’re putting it off. 155.776 - In one experiment, students were given reminders to study throughout the day. 161.115 - While they were studying, most reported that it wasn’t so bad. 164.785 - But when they were procrastinating, 166.787 - they consistently rated the idea of studying as very stressful, 171.918 - making it difficult to get started. 175.004 - Because procrastination is motivated by our negative feelings, 178.799 - some individuals are more susceptible to it than others. 182.762 - People who have difficulty regulating their emotions 185.473 - and those who struggle  with low self-esteem 188.017 - are much more likely to procrastinate, 190.686 - regardless of how good they are at time management. 194.148 - However, its a common misconception that all procrastinators are lazy. 200.529 - In the body and brain, laziness is marked by no energy and general apathy. 206.786 - When you’re feeling lazy, you’re more likely to sit around doing nothing 210.456 - than distract yourself  with unimportant tasks. 213.876 - In fact, many people procrastinate because they care too much. 219.298 - Procrastinators often report a high fear of failure, 223.052 - putting things off because they’re afraid their work 225.846 - won’t live up to their high standards. 228.808 - Whatever the reason for procrastination,  the results are often the same. 233.813 - Frequent procrastinators are likely  to suffer from anxiety and depression, 238.484 - ongoing feelings of shame, 240.319 - higher stress levels and physical ailments associated with high stress. 245.866 - Worst of all, while procrastination hurts us in the long run, 249.787 - it does temporarily reduce our stress level, 253.457 - reinforcing it as a bodily response for coping with stressful tasks. 258.963 - So, how can we break the cycle of procrastination? 263.843 - Traditionally, people thought  procrastinators needed to cultivate 267.513 - discipline and practice  strict time management. 271.183 - But today, many researchers feel the exact opposite. 275.479 - Being too hard on yourself can layer additional bad emotions onto a task, 280.192 - making the threat even more intense. 283.404 - To short-circuit this stress response, 285.698 - we need to address and reduce these negative emotions. 290.619 - Some simple strategies include breaking a task into smaller elements 295.249 - or journaling about why its stressing you out 297.835 - and addressing those underlying concerns. 301.464 - Try removing nearby distractions that make it easy to impulsively procrastinate. 307.136 - And more than anything, it helps to cultivate an attitude of self-compassion, 312.099 - forgiving yourself, and making a plan to do better next time. 317.188 - Because a culture that perpetuates this cycle of stress and procrastination 322.151 - hurts all of us in the long term.'}]\n",
    ")"
   ]
  },
  {
   "cell_type": "code",
   "execution_count": 34,
   "metadata": {},
   "outputs": [
    {
     "data": {
      "text/html": [
       "<pre style=\"white-space:pre;overflow-x:auto;line-height:normal;font-family:Menlo,'DejaVu Sans Mono',consolas,'Courier New',monospace\"><span style=\"color: #800080; text-decoration-color: #800080; font-weight: bold\">DetailedJobOut</span><span style=\"font-weight: bold\">(</span>\n",
       "    <span style=\"color: #808000; text-decoration-color: #808000\">id</span>=<span style=\"color: #008000; text-decoration-color: #008000\">'a35bfbff-922a-4f05-8790-cabe1168398e'</span>,\n",
       "    <span style=\"color: #808000; text-decoration-color: #808000\">auto_start</span>=<span style=\"color: #ff0000; text-decoration-color: #ff0000; font-style: italic\">False</span>,\n",
       "    <span style=\"color: #808000; text-decoration-color: #808000\">hyperparameters</span>=<span style=\"color: #800080; text-decoration-color: #800080; font-weight: bold\">TrainingParameters</span><span style=\"font-weight: bold\">(</span>\n",
       "        <span style=\"color: #808000; text-decoration-color: #808000\">training_steps</span>=<span style=\"color: #008080; text-decoration-color: #008080; font-weight: bold\">10</span>,\n",
       "        <span style=\"color: #808000; text-decoration-color: #808000\">learning_rate</span>=<span style=\"color: #008080; text-decoration-color: #008080; font-weight: bold\">0.0001</span>,\n",
       "        <span style=\"color: #808000; text-decoration-color: #808000\">weight_decay</span>=<span style=\"color: #008080; text-decoration-color: #008080; font-weight: bold\">0.1</span>,\n",
       "        <span style=\"color: #808000; text-decoration-color: #808000\">warmup_fraction</span>=<span style=\"color: #008080; text-decoration-color: #008080; font-weight: bold\">0.05</span>,\n",
       "        <span style=\"color: #808000; text-decoration-color: #808000\">epochs</span>=<span style=\"color: #008080; text-decoration-color: #008080; font-weight: bold\">3.857566241586443</span>,\n",
       "        <span style=\"color: #808000; text-decoration-color: #808000\">fim_ratio</span>=<span style=\"color: #800080; text-decoration-color: #800080; font-style: italic\">None</span>,\n",
       "        <span style=\"color: #808000; text-decoration-color: #808000\">seq_len</span>=<span style=\"color: #008080; text-decoration-color: #008080; font-weight: bold\">32768</span>\n",
       "    <span style=\"font-weight: bold\">)</span>,\n",
       "    <span style=\"color: #808000; text-decoration-color: #808000\">model</span>=<span style=\"color: #008000; text-decoration-color: #008000\">'open-mistral-7b'</span>,\n",
       "    <span style=\"color: #808000; text-decoration-color: #808000\">status</span>=<span style=\"color: #008000; text-decoration-color: #008000\">'VALIDATED'</span>,\n",
       "    <span style=\"color: #808000; text-decoration-color: #808000\">job_type</span>=<span style=\"color: #008000; text-decoration-color: #008000\">'FT'</span>,\n",
       "    <span style=\"color: #808000; text-decoration-color: #808000\">created_at</span>=<span style=\"color: #008080; text-decoration-color: #008080; font-weight: bold\">1733105408</span>,\n",
       "    <span style=\"color: #808000; text-decoration-color: #808000\">modified_at</span>=<span style=\"color: #008080; text-decoration-color: #008080; font-weight: bold\">1733105410</span>,\n",
       "    <span style=\"color: #808000; text-decoration-color: #808000\">training_files</span>=<span style=\"font-weight: bold\">[</span><span style=\"color: #008000; text-decoration-color: #008000\">'5e29614e-703a-446e-86d6-3678b1bee8f4'</span><span style=\"font-weight: bold\">]</span>,\n",
       "    <span style=\"color: #808000; text-decoration-color: #808000\">validation_files</span>=<span style=\"font-weight: bold\">[</span><span style=\"color: #008000; text-decoration-color: #008000\">'2ae4a23c-f6e5-4efb-b792-5d897d0f7387'</span><span style=\"font-weight: bold\">]</span>,\n",
       "    <span style=\"color: #808000; text-decoration-color: #808000\">OBJECT</span>=<span style=\"color: #008000; text-decoration-color: #008000\">'job'</span>,\n",
       "    <span style=\"color: #808000; text-decoration-color: #808000\">fine_tuned_model</span>=<span style=\"color: #800080; text-decoration-color: #800080; font-style: italic\">None</span>,\n",
       "    <span style=\"color: #808000; text-decoration-color: #808000\">suffix</span>=<span style=\"color: #800080; text-decoration-color: #800080; font-style: italic\">None</span>,\n",
       "    <span style=\"color: #808000; text-decoration-color: #808000\">integrations</span>=<span style=\"font-weight: bold\">[]</span>,\n",
       "    <span style=\"color: #808000; text-decoration-color: #808000\">trained_tokens</span>=<span style=\"color: #800080; text-decoration-color: #800080; font-style: italic\">None</span>,\n",
       "    <span style=\"color: #808000; text-decoration-color: #808000\">repositories</span>=<span style=\"font-weight: bold\">[]</span>,\n",
       "    <span style=\"color: #808000; text-decoration-color: #808000\">metadata</span>=<span style=\"color: #800080; text-decoration-color: #800080; font-weight: bold\">JobMetadataOut</span><span style=\"font-weight: bold\">(</span>\n",
       "        <span style=\"color: #808000; text-decoration-color: #808000\">expected_duration_seconds</span>=<span style=\"color: #008080; text-decoration-color: #008080; font-weight: bold\">340</span>,\n",
       "        <span style=\"color: #808000; text-decoration-color: #808000\">cost</span>=<span style=\"color: #008080; text-decoration-color: #008080; font-weight: bold\">2.63</span>,\n",
       "        <span style=\"color: #808000; text-decoration-color: #808000\">cost_currency</span>=<span style=\"color: #008000; text-decoration-color: #008000\">'USD'</span>,\n",
       "        <span style=\"color: #808000; text-decoration-color: #808000\">train_tokens_per_step</span>=<span style=\"color: #008080; text-decoration-color: #008080; font-weight: bold\">131072</span>,\n",
       "        <span style=\"color: #808000; text-decoration-color: #808000\">train_tokens</span>=<span style=\"color: #008080; text-decoration-color: #008080; font-weight: bold\">1310720</span>,\n",
       "        <span style=\"color: #808000; text-decoration-color: #808000\">data_tokens</span>=<span style=\"color: #008080; text-decoration-color: #008080; font-weight: bold\">339779</span>,\n",
       "        <span style=\"color: #808000; text-decoration-color: #808000\">estimated_start_time</span>=<span style=\"color: #800080; text-decoration-color: #800080; font-style: italic\">None</span>\n",
       "    <span style=\"font-weight: bold\">)</span>,\n",
       "    <span style=\"color: #808000; text-decoration-color: #808000\">events</span>=<span style=\"font-weight: bold\">[</span>\n",
       "        <span style=\"color: #800080; text-decoration-color: #800080; font-weight: bold\">EventOut</span><span style=\"font-weight: bold\">(</span><span style=\"color: #808000; text-decoration-color: #808000\">name</span>=<span style=\"color: #008000; text-decoration-color: #008000\">'status-updated'</span>, <span style=\"color: #808000; text-decoration-color: #808000\">created_at</span>=<span style=\"color: #008080; text-decoration-color: #008080; font-weight: bold\">1733105410</span>, <span style=\"color: #808000; text-decoration-color: #808000\">data</span>=<span style=\"font-weight: bold\">{</span><span style=\"color: #008000; text-decoration-color: #008000\">'status'</span>: <span style=\"color: #008000; text-decoration-color: #008000\">'VALIDATED'</span><span style=\"font-weight: bold\">})</span>,\n",
       "        <span style=\"color: #800080; text-decoration-color: #800080; font-weight: bold\">EventOut</span><span style=\"font-weight: bold\">(</span><span style=\"color: #808000; text-decoration-color: #808000\">name</span>=<span style=\"color: #008000; text-decoration-color: #008000\">'status-updated'</span>, <span style=\"color: #808000; text-decoration-color: #808000\">created_at</span>=<span style=\"color: #008080; text-decoration-color: #008080; font-weight: bold\">1733105410</span>, <span style=\"color: #808000; text-decoration-color: #808000\">data</span>=<span style=\"font-weight: bold\">{</span><span style=\"color: #008000; text-decoration-color: #008000\">'status'</span>: <span style=\"color: #008000; text-decoration-color: #008000\">'RUNNING'</span><span style=\"font-weight: bold\">})</span>,\n",
       "        <span style=\"color: #800080; text-decoration-color: #800080; font-weight: bold\">EventOut</span><span style=\"font-weight: bold\">(</span><span style=\"color: #808000; text-decoration-color: #808000\">name</span>=<span style=\"color: #008000; text-decoration-color: #008000\">'status-updated'</span>, <span style=\"color: #808000; text-decoration-color: #808000\">created_at</span>=<span style=\"color: #008080; text-decoration-color: #008080; font-weight: bold\">1733105408</span>, <span style=\"color: #808000; text-decoration-color: #808000\">data</span>=<span style=\"font-weight: bold\">{</span><span style=\"color: #008000; text-decoration-color: #008000\">'status'</span>: <span style=\"color: #008000; text-decoration-color: #008000\">'QUEUED'</span><span style=\"font-weight: bold\">})</span>\n",
       "    <span style=\"font-weight: bold\">]</span>,\n",
       "    <span style=\"color: #808000; text-decoration-color: #808000\">checkpoints</span>=<span style=\"font-weight: bold\">[]</span>\n",
       "<span style=\"font-weight: bold\">)</span>\n",
       "</pre>\n"
      ],
      "text/plain": [
       "\u001b[1;35mDetailedJobOut\u001b[0m\u001b[1m(\u001b[0m\n",
       "    \u001b[33mid\u001b[0m=\u001b[32m'a35bfbff-922a-4f05-8790-cabe1168398e'\u001b[0m,\n",
       "    \u001b[33mauto_start\u001b[0m=\u001b[3;91mFalse\u001b[0m,\n",
       "    \u001b[33mhyperparameters\u001b[0m=\u001b[1;35mTrainingParameters\u001b[0m\u001b[1m(\u001b[0m\n",
       "        \u001b[33mtraining_steps\u001b[0m=\u001b[1;36m10\u001b[0m,\n",
       "        \u001b[33mlearning_rate\u001b[0m=\u001b[1;36m0\u001b[0m\u001b[1;36m.0001\u001b[0m,\n",
       "        \u001b[33mweight_decay\u001b[0m=\u001b[1;36m0\u001b[0m\u001b[1;36m.1\u001b[0m,\n",
       "        \u001b[33mwarmup_fraction\u001b[0m=\u001b[1;36m0\u001b[0m\u001b[1;36m.05\u001b[0m,\n",
       "        \u001b[33mepochs\u001b[0m=\u001b[1;36m3\u001b[0m\u001b[1;36m.857566241586443\u001b[0m,\n",
       "        \u001b[33mfim_ratio\u001b[0m=\u001b[3;35mNone\u001b[0m,\n",
       "        \u001b[33mseq_len\u001b[0m=\u001b[1;36m32768\u001b[0m\n",
       "    \u001b[1m)\u001b[0m,\n",
       "    \u001b[33mmodel\u001b[0m=\u001b[32m'open-mistral-7b'\u001b[0m,\n",
       "    \u001b[33mstatus\u001b[0m=\u001b[32m'VALIDATED'\u001b[0m,\n",
       "    \u001b[33mjob_type\u001b[0m=\u001b[32m'FT'\u001b[0m,\n",
       "    \u001b[33mcreated_at\u001b[0m=\u001b[1;36m1733105408\u001b[0m,\n",
       "    \u001b[33mmodified_at\u001b[0m=\u001b[1;36m1733105410\u001b[0m,\n",
       "    \u001b[33mtraining_files\u001b[0m=\u001b[1m[\u001b[0m\u001b[32m'5e29614e-703a-446e-86d6-3678b1bee8f4'\u001b[0m\u001b[1m]\u001b[0m,\n",
       "    \u001b[33mvalidation_files\u001b[0m=\u001b[1m[\u001b[0m\u001b[32m'2ae4a23c-f6e5-4efb-b792-5d897d0f7387'\u001b[0m\u001b[1m]\u001b[0m,\n",
       "    \u001b[33mOBJECT\u001b[0m=\u001b[32m'job'\u001b[0m,\n",
       "    \u001b[33mfine_tuned_model\u001b[0m=\u001b[3;35mNone\u001b[0m,\n",
       "    \u001b[33msuffix\u001b[0m=\u001b[3;35mNone\u001b[0m,\n",
       "    \u001b[33mintegrations\u001b[0m=\u001b[1m[\u001b[0m\u001b[1m]\u001b[0m,\n",
       "    \u001b[33mtrained_tokens\u001b[0m=\u001b[3;35mNone\u001b[0m,\n",
       "    \u001b[33mrepositories\u001b[0m=\u001b[1m[\u001b[0m\u001b[1m]\u001b[0m,\n",
       "    \u001b[33mmetadata\u001b[0m=\u001b[1;35mJobMetadataOut\u001b[0m\u001b[1m(\u001b[0m\n",
       "        \u001b[33mexpected_duration_seconds\u001b[0m=\u001b[1;36m340\u001b[0m,\n",
       "        \u001b[33mcost\u001b[0m=\u001b[1;36m2\u001b[0m\u001b[1;36m.63\u001b[0m,\n",
       "        \u001b[33mcost_currency\u001b[0m=\u001b[32m'USD'\u001b[0m,\n",
       "        \u001b[33mtrain_tokens_per_step\u001b[0m=\u001b[1;36m131072\u001b[0m,\n",
       "        \u001b[33mtrain_tokens\u001b[0m=\u001b[1;36m1310720\u001b[0m,\n",
       "        \u001b[33mdata_tokens\u001b[0m=\u001b[1;36m339779\u001b[0m,\n",
       "        \u001b[33mestimated_start_time\u001b[0m=\u001b[3;35mNone\u001b[0m\n",
       "    \u001b[1m)\u001b[0m,\n",
       "    \u001b[33mevents\u001b[0m=\u001b[1m[\u001b[0m\n",
       "        \u001b[1;35mEventOut\u001b[0m\u001b[1m(\u001b[0m\u001b[33mname\u001b[0m=\u001b[32m'status-updated'\u001b[0m, \u001b[33mcreated_at\u001b[0m=\u001b[1;36m1733105410\u001b[0m, \u001b[33mdata\u001b[0m=\u001b[1m{\u001b[0m\u001b[32m'status'\u001b[0m: \u001b[32m'VALIDATED'\u001b[0m\u001b[1m}\u001b[0m\u001b[1m)\u001b[0m,\n",
       "        \u001b[1;35mEventOut\u001b[0m\u001b[1m(\u001b[0m\u001b[33mname\u001b[0m=\u001b[32m'status-updated'\u001b[0m, \u001b[33mcreated_at\u001b[0m=\u001b[1;36m1733105410\u001b[0m, \u001b[33mdata\u001b[0m=\u001b[1m{\u001b[0m\u001b[32m'status'\u001b[0m: \u001b[32m'RUNNING'\u001b[0m\u001b[1m}\u001b[0m\u001b[1m)\u001b[0m,\n",
       "        \u001b[1;35mEventOut\u001b[0m\u001b[1m(\u001b[0m\u001b[33mname\u001b[0m=\u001b[32m'status-updated'\u001b[0m, \u001b[33mcreated_at\u001b[0m=\u001b[1;36m1733105408\u001b[0m, \u001b[33mdata\u001b[0m=\u001b[1m{\u001b[0m\u001b[32m'status'\u001b[0m: \u001b[32m'QUEUED'\u001b[0m\u001b[1m}\u001b[0m\u001b[1m)\u001b[0m\n",
       "    \u001b[1m]\u001b[0m,\n",
       "    \u001b[33mcheckpoints\u001b[0m=\u001b[1m[\u001b[0m\u001b[1m]\u001b[0m\n",
       "\u001b[1m)\u001b[0m\n"
      ]
     },
     "metadata": {},
     "output_type": "display_data"
    }
   ],
   "source": [
    "print(retrieved_jobs)"
   ]
  }
 ],
 "metadata": {
  "interpreter": {
   "hash": "efd1b172848c1866317d47e098e35fd817fa77fa26344c7b89bbd30e3716a229"
  },
  "kernelspec": {
   "display_name": "Python 3.9.13 ('base')",
   "language": "python",
   "name": "python3"
  },
  "language_info": {
   "codemirror_mode": {
    "name": "ipython",
    "version": 3
   },
   "file_extension": ".py",
   "mimetype": "text/x-python",
   "name": "python",
   "nbconvert_exporter": "python",
   "pygments_lexer": "ipython3",
   "version": "3.9.13"
  },
  "orig_nbformat": 4
 },
 "nbformat": 4,
 "nbformat_minor": 2
}
